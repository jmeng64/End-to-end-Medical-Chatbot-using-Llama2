{
 "cells": [
  {
   "cell_type": "code",
   "execution_count": 4,
   "metadata": {},
   "outputs": [
    {
     "name": "stdout",
     "output_type": "stream",
     "text": [
      "OK!\n"
     ]
    }
   ],
   "source": [
    "print(\"OK!\")"
   ]
  },
  {
   "cell_type": "code",
   "execution_count": 5,
   "metadata": {},
   "outputs": [
    {
     "name": "stderr",
     "output_type": "stream",
     "text": [
      "c:\\Users\\jerry\\anaconda3\\envs\\mchatbot\\lib\\site-packages\\pinecone\\data\\index.py:1: TqdmWarning: IProgress not found. Please update jupyter and ipywidgets. See https://ipywidgets.readthedocs.io/en/stable/user_install.html\n",
      "  from tqdm.autonotebook import tqdm\n"
     ]
    }
   ],
   "source": [
    "from langchain import PromptTemplate\n",
    "from langchain.chains import RetrievalQA\n",
    "from langchain.embeddings import HuggingFaceEmbeddings\n",
    "#from langchain.vectorstores import Pinecone\n",
    "from langchain_pinecone import Pinecone \n",
    "import pinecone\n",
    "from langchain.document_loaders import PyPDFLoader, DirectoryLoader\n",
    "from langchain.text_splitter import RecursiveCharacterTextSplitter\n",
    "from langchain.prompts import PromptTemplate\n",
    "from langchain.llms import CTransformers\n"
   ]
  },
  {
   "cell_type": "code",
   "execution_count": 6,
   "metadata": {},
   "outputs": [
    {
     "data": {
      "text/plain": [
       "True"
      ]
     },
     "execution_count": 6,
     "metadata": {},
     "output_type": "execute_result"
    }
   ],
   "source": [
    "from dotenv import load_dotenv, find_dotenv \n",
    "load_dotenv()\n",
    "#load_dotenv(find_dotenv()) # if above doesn't work. use this one. "
   ]
  },
  {
   "cell_type": "code",
   "execution_count": 7,
   "metadata": {},
   "outputs": [],
   "source": [
    "import os \n",
    "\n",
    "PINECONE_API_KEY=os.getenv(\"PINECONE_API_KEY\")\n",
    "PINECONE_API_ENV=os.getenv(\"PINECONE_API_ENV\")"
   ]
  },
  {
   "cell_type": "code",
   "execution_count": 8,
   "metadata": {},
   "outputs": [],
   "source": [
    "# create an index in pinecone.  dim 384\n"
   ]
  },
  {
   "cell_type": "code",
   "execution_count": 9,
   "metadata": {},
   "outputs": [],
   "source": [
    "#Extract data from the PDF\n",
    "def load_pdf(data):\n",
    "    loader = DirectoryLoader(data,\n",
    "                    glob=\"*.pdf\",\n",
    "                    loader_cls=PyPDFLoader)\n",
    "    \n",
    "    documents = loader.load()\n",
    "\n",
    "    return documents"
   ]
  },
  {
   "cell_type": "code",
   "execution_count": 20,
   "metadata": {},
   "outputs": [],
   "source": [
    "extracted_data = load_pdf(\"data\")"
   ]
  },
  {
   "cell_type": "code",
   "execution_count": 28,
   "metadata": {},
   "outputs": [
    {
     "data": {
      "text/plain": [
       "[Document(page_content='Normal results\\nIf the surgery is successful, the ovaries will be\\nremoved without complication, and the underlying prob-lem resolved. In the case of cancer, all the cancer will beremoved.\\nAbnormal results\\nComplications may arise if the surgeon finds that\\ncancer has spread to other places in the abdomen. If thecancer cannot be removed by surgery, it must be treatedwith chemotherapy and radiation.\\nResources\\nPERIODICALS\\n“Removing Ovaries Lowers Risk for Women at High Risk of\\nBreast, Ovarian Cancer.” ACS News Today 8 November\\n2000. <http://www.cancer.org>.\\nORGANIZATIONS\\nAmerican Cancer Society National Headquarters. 1599 Clifton\\nRoad NE, Atlanta, GA 30329. (800)ACS-2345. <http://www.cancer.org>.\\nCancer Information Service, National Cancer Institute. Build-\\ning 31, Room 10A19, 9000 Rockville Pike, Bethesda, MD20892. (800)4-CANCER. <http://www.nci.nih.gov/cancerinfo/index.html>.\\nTish Davidson, A.M.\\nOpen fracture reduction seeFracture repair\\nOphthalmic antibiotics seeAntibiotics,\\nophthalmic\\nOphthalmoplegia\\nDefinition\\nOphthalmoplegia is a paralysis or weakness of one\\nor more of the muscles that control eye movement. Thecondition can be caused by any of several neurologic dis-orders. It may be myopathic, meaning that the musclescontrolling eye movement are directly involved, or neu-rogenic, meaning that the nerve pathways controlling eyemuscles are affected. Diseases associated with ophthal-moplegia are ocular myopathy, which affects muscles,and internuclear ophthalmoplegia, a disorder caused bymultiple sclerosis , a disease which affects nerves.\\nDescription\\nBecause the eyes do not move together in ophthal-\\nmoplegia, patients may complain of double vision. Dou-ble vision is especially troublesome if the ophthalmople-gia comes on suddenly or affects each eye differently.Because ophthalmoplegia is caused by another, underly-ing disease, it is often associated with other neurologicsymptoms, including limb weakness, lack of coordina-tion, and numbness.\\nCauses and symptoms\\nOcular myopathy is also known as mitochondrial\\nencephalomyelopathy with ophthalmoplegia or progres-sive external ophthalmoplegia. Because it is so often asso-ciated with diseases affecting many levels of the neuro-logic system, it is often referred to as “ophthalmoplegiaplus.” The main feature is progressive limitation of eyemovements, usually with drooping of the eyelids ( ptosis ).\\nPtosis may occur years before other symptoms of oph-thalmoplegia. Because both eyes are equally involved andbecause ability to move the eyes lessens gradually overthe course of years, double vision is rare. On examination,the eyelids may appear thin. This disease usually beginsin childhood or adolescence but may start later.\\nWhen ophthalmoplegia is caused by muscle degen-\\neration (myopathic), muscle biopsy, in which a smallpiece of muscle is surgically removed and examinedmicroscopically, will find characteristic abnormal musclefibers called ragged red fibers. In this form of ophthal-moplegia, the patient may experience weakness of theface, the muscles involved in swallowing, the neck, orthe limbs.\\nProgressive external ophthalmoplegia is sometimes\\nassociated with specific neurologic syndromes. Thesesyndromes include familial forms of spastic paraplegia,spinocerebellar disorders, or sensorimotor peripheral\\nneuropathy . Kearns-Sayre syndrome causes ophthalmo-\\nplegia along with loss of pigment in the retina, the light-sensitive membrane lining the eye. In addition, the dis-ease may cause heart block that must be corrected with\\na pacemaker, increased protein in the cerebrospinal fluid,and a progressively disabling lack of muscular coordina-tion (cerebellar syndrome). Symptoms of the diseaseappear before age 15.\\nSome of the progressive external ophthalmoplegia\\nsyndromes are unusual in that inheritance is controlledby DNA in the mitochondria. The mitochondria are rod-shaped structures within a cell that convert food to usableenergy. Most inherited diseases are passed on by DNA inthe cell nucleus, the core that contains the hereditarymaterial. Mitochondrial inheritance tends to be passed onby the mother. Other forms of progressive external oph-thalmoplegia are not inherited but occur sporadicallywith no clear family history. It is not known why someforms are neurogenic and others are myopathic. In the\\nGALE ENCYCLOPEDIA OF MEDICINE 2 2394Ophthalmoplegia', metadata={'source': 'data\\\\Gale Encyclopedia of Medicine v4N_S.pdf', 'page': 100}),\n",
       " Document(page_content='forms inherited through mitochondrial DNA, it is not\\nknown which gene product is affected.\\nInternuclear ophthalmoplegia in multiple sclerosis is\\ncaused by damage to a bundle of fibers in the brainstemcalled the medial longitudinal fasciculus. In this syn-drome, the eye on the same side as the damaged mediallongitudinal fasciculus is unable to look outward (that is,the left eye cannot look left). The other eye exhibits jerk-ing movements ( nystagmus ) when the patient tries to\\nlook left. Internuclear ophthalmoplegia may be seenrarely without multiple sclerosis in patients with certaintypes of cancer or with Chiari type II malformation.\\nEye movement disorders and ophthalmoplegia can\\nalso be seen with progressive supranuclear palsy ,t h y -\\nroid disease, diabetes mellitus , brainstem tumors,\\nmigraine, basilar artery stroke , pituitary stroke, myas-\\nthenia gravis ,muscular dystrophy , and the Fisher vari-\\nant of Guillain-Barré syndrome . A tumor or aneurysm\\nin the cavernous sinus, located behind the eyes, can causepainful ophthalmoplegia. Painful ophthalmoplegia canalso be caused by an inflammatory process in the samearea, called Tolosa-Hunt syndrome.\\nDiagnosis\\nThe patient’s medical and family history and the\\nexamination findings will usually help differentiate thevarious syndromes associated with ophthalmoplegia. Inaddition, each syndrome is associated with characteristicfeatures, such as nystagmus or ptosis. All patients withprogressive external ophthalmoplegia should have a mus-cle biopsy to look for ragged red fibers or changes sug-gesting muscular dystrophy. A sample should be sent foranalysis of mitochondrial DNA. Electromyogram(EMG), measurement of electrical activity in the muscle,helps diagnose myopathy.\\nComputed tomography scan (CT scan) or magnetic\\nresonance imaging (MRI) scans of the brain may be\\nneeded to rule out brain tumor , stroke, aneurysm, or\\nmultiple sclerosis. When multiple sclerosis is suspected,evoked potential testing of nerve response may also behelpful. Analysis of cerebrospinal fluid may showchanges characteristic of multiple sclerosis or Kearns-Sayre syndrome. Other tests that may be helpful inKearns-Sayre include electrocardiogram (measuringelectrical activity of the heart muscles), retinal examina-tion, and a hearing test (audiogram). For possible myas-thenia gravis, the Tensilon (edrophonium) test should bedone. Tests should also be done to measure activity of thecell-surface receptors for acetylcholine, a chemical thathelps pass electrical impulses along nerve cells in themuscles. Thyroid disease and diabetes mellitus should beexcluded by appropriate blood work.KEY TERMS\\nCerebellar —Involving the cerebellum, which con-\\ntrols walking, balance, and coordination.\\nCerebrospinal fluid —Fluid bathing the brain and\\nspinal cord.\\nHeart block —A problem with electrical conduc-\\ntion in the heart muscle that may lead to irregularheart beat and require a pacemaker for treatment.\\nMitochondria —Spherical or rod shaped parts of\\nthe cell. Mitochondria contain genetic material(DNA and RNA) and are responsible for convert-ing food to energy.\\nTreatment\\nThere are no specific cures for ocular myopathy or\\nprogressive external ophthalmoplegia. Vitamin E therapyhas been used to treat Kearns-Sayre syndrome. Coen-zyme Q (ubiquinone), a naturally occurring substancesimilar to vitamin K, is widely used to treat other formsof progressive external ophthalmoplegia, but the degreeof success varies. Specific treatments are available formultiple sclerosis, myasthenia gravis, diabetes mellitus,and thyroid disease. Symptoms of ophthalmoplegia canbe relieved by mechanical treatment. Surgical procedurescan lift drooping eyelids or a patch over one eye can beused to relieve double vision. Because there is no blinkresponse, a surgically lifted eyelid exposes the cornea ofthe eye so that it may become dry or be scratched. Thesecomplications must be avoided by using artificial tearsand wearing eyepatches at night. In Kearns-Sayre syn-drome, a pacemaker may be needed.\\nPrognosis\\nThe prognosis of progressive external ophthalmople-\\ngia depends on the associated neurological problems; inparticular, whether there is severe limb weakness or cere-bellar symptoms that may be mild or disabling. As withmost chronic neurologic diseases, mortality increases withdisability. Progressive external ophthalmoplegia itself isnot a life-threatening condition. Kearns-Sayre syndrome isdisabling, probably shortens the life span, and few if anypatients have children. Overall life expectancy for multiplesclerosis patients is seven years less than normal; death\\nrates are higher for women than for men.\\nPrevention\\nThere is no way to prevent ophthalmoplegia.\\nGALE ENCYCLOPEDIA OF MEDICINE 2 2395Ophthalmoplegia', metadata={'source': 'data\\\\Gale Encyclopedia of Medicine v4N_S.pdf', 'page': 101}),\n",
       " Document(page_content='Resources\\nBOOKS\\nHirano, M., and S. DiMauro. “Clinical Features of Mitochon-\\ndrial Myopathies and Encephalomyopathies.” In Hand-\\nbook of Muscle Disease , ed. R. J. M. Lane. New York:\\nMarcel Dekker, 1994.\\nTome, F. M. S., and M. Fardeau. “Ocular Myopathies.” In\\nMyology: Basic and Clinical , ed. A. G. Engel and B. Q.\\nBanker. New York: McGraw-Hill, 1986.\\nPERIODICALS\\nRowland, L. P. “Progressive External Ophthalmoplegia and\\nOcular Myopathies.” Handbook of Clinical Neurology 48\\n(1992): 287-329.\\nORGANIZATIONS\\nAmerican Academy of Neurology. 1080 Montreal Ave., St.\\nPaul, MN 55116. (612) 695-1940. <http://www.aan.com>.\\nLaurie Barclay, MD\\nOphthalmoscopic examination seeEye\\nexamination\\nOpiate withdrawal seeWithdrawal\\nsyndromes\\nOpioid analgesics seeAnalgesics, opioid\\nOppositional defiant disorder\\nDefinition\\nOppositional defiant disorder is a recurring pattern\\nof negative, hostile, disobedient, and defiant behavior ina child or adolescent, lasting for at least six months with-out serious violation of the basic rights of others.\\nDescription\\nThe behavior disturbances cause clinically signifi-\\ncant problems in social, school, or work functioning. Thecourse of oppositional defiant disorder varies amongpatients. In males, the disorder is more common amongthose who had problem temperaments or high motoractivity in the preschool years. During the school years,patients may have low self-esteem, changing moods, anda low frustration tolerance. Patients may swear and usealcohol, tobacco, or illicit drugs at an early age. Thereare often conflicts with parents, teachers, and peers.\\nChildren with this disorder show their negative and\\ndefiant behaviors by being persistently stubborn andresisting directions. They may be unwilling to compro-mise, give in, or negotiate with adults. Patients maydeliberately or persistently test limits, ignore orders,argue, and fail to accept blame for misdeeds. Hostility isdirected at adults or peers and is shown by verbal aggres-sion or deliberately annoying others.\\nCauses and symptoms\\nOppositional defiant disorder is more common in\\nboys than girls and the disorder typically begins by ageeight. Although the specific causes of the disorder areunknown, parents who are overly concerned with powerand control may cause an eruption to occur. Symptomsoften appear at home, but over time may appear in othersettings as well. Usually the disorder occurs graduallyover months or years. Several theories about the causesof oppositional defiant disorder are being investigated.Oppositional defiant disorder may be related to:\\n• the child’s temperament and the family’s response to\\nthat temperament\\n• an inherited predisposition to the disorder in some fam-\\nilies\\n• a neurological cause, like a head injury\\n• a chemical imbalance in the brain (especially with the\\nbrain chemical serotonin)\\nOppositional defiant disorder appears to be more\\ncommon in families where at least one parent has a histo-ry of a mood disorder, conduct disorder , attention\\ndeficit/hyperactivity disorder, antisocial personality dis-order, or a substance-related disorder. Additionally, somestudies suggest that mothers with a depressive disorderare more likely to have children with oppositional behav-ior. However, it is unclear to what extent the mother’sdepression results from or causes oppositional behaviorin children.\\nSymptoms include a pattern of negative, hostile, and\\ndefiant behavior lasting at least six months. During thistime four or more specific behaviors must be present.These behaviors include the child who:\\n• often loses his/her temper\\n• often argues with adults• often actively defies or refuses to comply with adults’\\nrequests or rules\\n• often deliberately annoys people• often blames others for his/her mistakes or misbehavior\\n• is often touchy or easily annoyed by others\\n• is often angry and resentful• is often spiteful or vindictive• misbehaves\\nGALE ENCYCLOPEDIA OF MEDICINE 2 2396Oppositional defiant disorder', metadata={'source': 'data\\\\Gale Encyclopedia of Medicine v4N_S.pdf', 'page': 102}),\n",
       " Document(page_content='• swears or uses obscene language\\n• has a low opinion of him/herself\\nThe diagnosis of oppositional defiant disorder is not\\nmade if the symptoms occur exclusively in psychotic ormood disorders . Criteria are not met for conduct disor-\\nder, and, if the child is 18 years old or older, criteria arenot met for antisocial personality disorder. In otherwords, a child with oppositional defiant disorder does notshow serious aggressive behaviors or exhibit the physicalcruelty that is common in other disorders.\\nAdditional problems may be present, including:\\n• learning problems• a depressed mood• hyperactivity (although attention deficit/hyperactivity\\ndisorder must be ruled out)\\n• substance abuse or dependence\\n• dramatic and erratic behavior\\nThe patient with oppositional defiant disorder is\\nmoody, easily frustrated, and may abuse drugs.\\nDiagnosis\\nWhile psychological testing may be needed, the doc-\\ntor must examine and talk with the child, talk with theparents, and review the medical history. Oppositionaldefiant disorder rarely travels alone. Children with atten-tion/deficit hyperactive disorder will also have opposi-tional defiant disorder 50% of the time. Children withdepression/anxiety will have oppositional defiant disor-der 10–29% of the time. Because all of the features ofthis disorder are usually present in conduct disorder,oppositional defiant disorder is not diagnosed if the crite-ria are met for conduct disorder.\\nA diagnosis of oppositional defiant disorder should\\nbe considered only if the behaviors occur more frequent-ly and have more serious consequences than is typicallyobserved in other children of a similar developmentalstage. Further, the behavior must lead to significantimpairment in social, school, or work functioning.\\nTreatment\\nTreatment of oppositional defiant disorder usually\\nconsists of group, individual and/or family therapy , and\\neducation. Of these, individual therapy is the most com-mon. Therapy can provide a consistent daily schedule,support, consistent rules, discipline, and limits. It canalso help train patients to get along with others and modi-fy behaviors. Therapy can occur in residential, day treat-ment, or medical settings. Additionally, having a healthyrole model as an example is important for the patient.KEY TERMS\\nAttention deficit/hyperactivity disorder — A per-\\nsistent pattern of inattention, hyperactivity and/orimpulsiveness; the pattern is more frequent andsevere than is typically observed in people at asimilar level of development.\\nConduct disorder —A repetitive and persistent pat-\\ntern of behavior in which the basic rights of othersare violated or major age-appropriate rules ofsociety are broken.\\nParent management training focuses on teaching the\\nparents specific and more effective techniques for han-dling the child’s opposition and defiance. Research hasshown that parent management training is more effectivethan family therapy.\\nWhether involved in therapy or working on this dis-\\norder at home, the patient must work with his or her par-ents’ guidance to make the fullest possible recovery.According to the New York Hospital/Cornell MedicalCenter, the patients must:\\n• use self timeouts\\n• identify what increases anxiety\\n• talk about feelings instead of acting on them\\n• find and use ways to calm themselves• frequently remind themselves of their goals• get involved in tasks and physical activities that provide\\na healthy outlet for energy\\n• learn how to talk with others• develop a predictable, consistent, daily schedule of\\nactivity\\n• develop ways to obtain pleasure and feel good• learn how to get along with other people• find ways to limit stimulation• learn to admit mistakes in a matter-of-fact way\\nStimulant medication is used only when opposition-\\nal defiant disorder coexists with attention deficit/hyper-activity disorder. Currently no research is currently avail-able on the use of other psychiatric medications in thetreatment of oppositional defiant disorder.\\nPrognosis\\nThe outcome varies. In some children the disorder\\nevolves into a conduct disorder or a mood disorder. Later\\nGALE ENCYCLOPEDIA OF MEDICINE 2 2397Oppositional defiant disorder', metadata={'source': 'data\\\\Gale Encyclopedia of Medicine v4N_S.pdf', 'page': 103}),\n",
       " Document(page_content='in life, oppositional defiant disorder can develop into\\npassive aggressive personality disorder or antisocial per-sonality disorder. Some children respond well to treat-ment and some do not. Generally, with treatment, reason-able adjustment in social settings and in the workplacecan be made in adulthood.\\nResources\\nBOOKS\\nAmerican Psychiatric Association. Diagnostic and Statistical\\nManual of Mental Disorders. 4th ed. Washington, DC:\\nAmerican Psychiatric Association, 1994.\\nHowe, James W., ed., et. al. Neurobiological Disorders in Chil-\\ndren and Adolescents. San Francisco: Jossey–Bass, 1992.\\nKendall, Philip C., and Julian D. Norton-Ford. Clinical Psy-\\nchology: Scientific and Professional Dimensions. John\\nWiley & Sons, 1982.\\nPERIODICALS\\nCohen P., et al. “Diagnostic Predictors of Treatment Patterns in\\na Cohort of Adolescents.” Journal of the American Acade-\\nmy of Child & Adolescent Psychiatry 30 (1991): 989-93.\\nFrick P. J., et al. “Familial Risk Factors to Oppositional Defiant\\nDisorder and Conduct Disorder: Parental Psychopatholo-gy and Maternal Parenting.” Journal of Consulting &\\nClinical Psychology 60 (1992): 49-55.\\nORGANIZATIONS\\nFamilies Anonymous. Weschester County, Westchester, NY .\\n(212) 354-8525.\\nDavid James Doermann\\nOptic atrophy\\nDefinition\\nOptic atrophy can be defined as damage to the optic\\nnerve resulting in a degeneration or destruction of theoptic nerve. Optic atrophy may also be referred to asoptic nerve head pallor because of the pale appearance ofthe optic nerve head as seen at the back of the eye. Possi-ble causes of optic atrophy include: optic neuritis ,\\nLeber’s hereditary optic atrophy, toxic or nutritionaloptic neuropathy, glaucoma , vascular disorders, trauma,\\nand other systemic disorders.\\nDescription\\nThe process of vision involves light entering the eye\\nand triggering chemical changes in the retina, a pigment-ed layer lining the back of the eye. Nerve impulses creat-ed by this process travel to the brain via the optic nerve.Using a hand-held instrument called an ophthalmoscope,the doctor can see the optic nerve head (optic disc) whichis the part of the optic nerve that enters at the back of theeyeball. In optic atrophy, the disc is pale and has fewerblood vessels than normal.\\nCauses and symptoms\\nSymptoms of optic atrophy are a change in the optic\\ndisc and a decrease in visual function. This change invisual function can be a decrease in sharpness and clarityof vision (visual acuity) or decreases in side (peripheral)vision. Color vision and contrast sensitivity can also beaffected.\\nThere are many possible causes of optic atrophy.\\nThe causes can range from trauma to systemic disorders.Some possible causes of optic atrophy include:\\n• Optic neuritis. Optic neuritis is an inflammation of the\\noptic nerve. It may be associated with eye pain wors-\\nened by eye movement. It is more common in young tomiddle-aged women. Some patients with optic neuritismay develop multiple sclerosis later on in life.\\n• Leber’s hereditary optic neuropathy. This is a disease of\\nyoung men (late teens, early 20s), characterized by anonset over a few weeks of painless, severe, central visualloss in one eye, followed weeks or months later by thesame process in the other eye. At first the optic disc maybe slightly swollen, but eventually there is optic atrophy.The visual loss is generally permanent. This condition ishereditary. If a patient knows that Leber’s runs in thefamily, genetic counseling should be considered.\\n• Toxic optic neuropathy. Nutritional deficiencies and poi-\\nsons can be associated with gradual vision loss and opticatrophy, or with sudden vision loss and optic discswelling. Toxic and nutritional optic neuropathies areuncommon in the United States, but took on epidemicproportions in Cuba in 1992–1993. The most commontoxic optic neuropathy is known as tobacco-alcoholamblyopia , thought to be caused by exposure to cyanide\\nfrom tobacco smoking , and by low levels of vitamin B\\n12\\nbecause of poor nutrition and poor absorption associat-\\ned with drinking alcohol. Other possible toxins includedethambutol, methyl alcohol (moonshine), ethylene gly-col (antifreeze), cyanide, lead, and carbon monoxide.Certain medications have also been implicated. Nutri-tional optic neuropathy may be caused by deficiencies ofprotein, or of the B vitamins and folate, associated with\\nstarvation , malabsorption, or alcoholism .\\n• Glaucoma. Glaucoma may be caused by an increase of\\npressure inside the eye. This increased pressure mayeventually affect the optic nerve if left untreated.\\n• Compressive optic neuropathy. This is the result of a\\ntumor or other lesion putting pressure on the optic\\nGALE ENCYCLOPEDIA OF MEDICINE 2 2398Optic atrophy', metadata={'source': 'data\\\\Gale Encyclopedia of Medicine v4N_S.pdf', 'page': 104}),\n",
       " Document(page_content='nerve. Another possible cause is enlargement of muscles\\ninvolved in eye movement seen in hyperthyroidism\\n(Graves’ disease).\\n• Retinitis pigmentosa. This is a hereditary ocular disorder.\\n• Syphilis. Left untreated, this disease may result in optic\\natrophy.\\nDiagnosis\\nDiagnosis involves recognizing the characteristic\\nchanges in the optic disc with an ophthalmoscope, and mea-suring visual acuity, usually with an eye chart. Visual fieldtesting can test peripheral vision. Color vision and contrastsensitivity can also be tested. Family history is important inthe diagnosis of inherited conditions. Exposure to poisons,drugs, and even medications should be determined. Sus-pected poisoning can be confirmed through blood and urine\\nanalysis, as can vitamin deficiency.\\nBrain magnetic resonance imaging (MRI) may\\nshow a tumor or other structure putting pressure on theoptic nerve, or may show plaques characteristic of multi-ple sclerosis, which is frequently associated with opticneuritis. However, similar MRI lesions may appear inLeber’s hereditary optic neuropathy. Mitochondrial DNAtesting can be done on a blood sample, and can identifythe mutation responsible for Leber’s.\\nVisual evoked potentials (VEP), which measure\\nspeed of conduction over the nerve pathways involved insight, may detect abnormalities in the clinically unaffect-ed eye in early cases of Leber’s. Fluorescein angiogra-\\nphygives more detail about blood vessels in the retina.\\nTreatment\\nTreatment of optic neuritis with steroids is contro-\\nversial. Currently, there is no known treatment forLeber’s hereditary optic neuropathy. Treatment of othercauses of optic atrophy varies depending upon the under-lying disease.\\nPrognosis\\nMany patients with optic neuritis eventually develop\\nmultiple sclerosis. Most patients have a gradual recoveryof vision after a single episode of optic neuritis, evenwithout treatment. Prognosis for visual improvement inLeber’s hereditary optic neuropathy is poor, with the spe-cific rate highly dependent on which mitochondrial DNAmutation is present. If the cause of toxic or nutritionaldeficiency optic neuropathy can be found and treatedearly, such as stopping smoking and taking vitamins intobacco-alcohol amblyopia, vision generally returns tonear normal over several months’ time. However, visualloss is often permanent in cases of long-standing toxic ornutritional deficiency optic neuropathy.KEY TERMS\\nAtrophy —A destruction or dying of cells, tissues,\\nor organs.\\nCerebellar —Involving the part of the brain (cere-\\nbellum), which controls walking, balance, andcoordination.\\nMitochondia —A structure in the cell responsible for\\nproducing energy. A defect in the DNA in the mito-chondria is involved in Leber’s optic neuropathy.\\nNeuritis —An inflammation of the nerves.\\nNeuropathy —A disturbance of the nerves, not\\ncaused by an inflammation. For example, thecause may be toxins, or unknown.\\nPrevention\\nPeople noticing a decrease in vision (central\\nand/or side vision) should ask their eye care practition-er for a check up. Patients should also go for regularvision exams. Patients should ask their doctor howoften that should be, as certain conditons may warrantmore frequent exams. Early detection of inflammationsor other problems lessens the chance of developingoptic atrophy.\\nAs of mid 1998, there are no preventive measures\\nthat can definitely abort Leber’s hereditary optic neu-ropathy in those genetically at risk, or in those at riskbased on earlier involvement of one eye. However,some doctors recommend that their patients take vita-min C, vitamin E, coenzyme Q\\n10, or other antioxidants,\\nand that they avoid the use of tobacco or alcohol.Patients should ask their doctors about the use of vita-mins. Avoiding toxin exposure and nutritional deficien-cy should prevent toxic or nutritional deficiency opticneuropathy.\\nResources\\nPERIODICALS\\nCullom, M. E., et al. “Leber’s Hereditary Optic Neuropathy\\nMasquerading as Tobacco-Alcohol Amblyopia.” Archives\\nof Ophthalmology 111 (1993): 1482-5.\\nFunakawa, I., et al. “Cerebellar Ataxia in Patients with Leber’s\\nHereditary Optic Neuropathy.” Journal of Neurology 242\\n(1995): 75-7.\\nGoldnick, K. C., and E. R. Schaible. “Folate-Responsive Optic\\nNeuropathy.” In Journal of Neuroophthalmology 14\\n(1994):163-9.\\nNewman, N. J. “Optic Neuropathy.” Neurology 46, no. 2 (1996):\\n315-22.\\nGALE ENCYCLOPEDIA OF MEDICINE 2 2399Optic atrophy', metadata={'source': 'data\\\\Gale Encyclopedia of Medicine v4N_S.pdf', 'page': 105}),\n",
       " Document(page_content='ORGANIZATIONS\\nAmerican Academy of Neurology. 1080 Montreal Ave., St.\\nPaul, MN 55116. (612) 695-1940. <http://www.aan.com>.\\nPrevent Blindness America. 500 East Remington Road,\\nSchaumburg, IL 60173. (800) 331-2020. <http://www.preventblindness.org>.\\nLaurie Barclay, MD\\nOptic neuritis\\nDefinition\\nOptic neuritis is a vision disorder characterized by\\ninflammation of the optic nerve.\\nDescription\\nOptic neuritis occurs when the optic nerve, the path-\\nway that transmits visual information to the brain,becomes inflamed and the myelin sheath that surroundsthe nerve is destroyed (a process known as demyelina-tion). It typically occurs in one eye at a time (70%), andthe resulting vision loss is rapid and progressive, but onlytemporary. Thirty percent of patients experience occur-rence in both eyes. Optic neuritis tends to afflict youngadults with an average age in their 30s. Seventy-five per-cent of patients with optic neuritis are women.\\nNerve damage that occurs in the section of the optic\\nnerve located behind the eyeball, is called retrobulbar\\nneuritis , and is most often associated with multiple scle-\\nrosis . Optic nerve inflammation and edema (swelling)\\ncaused by intracranial pressure at the place where thenerve enters the eyeball is termed papillitis .\\nCauses and symptoms\\nSymptoms of optic neuritis include one or more of\\nthe following:\\n• blurred or dimmed vision\\n• blind spots, particularly with central vision• pain with eye movement•headache\\n• sudden color blindness• impaired night vision• impaired contrast sensitivity\\nOptic neuritis is most commonly associated with\\nmultiple sclerosis (MS). Other causes include viral orfungal infections, encephalomyelitis, autoimmune dis-eases, or pressure on the nerve from tumors or vasculardiseases (i.e., temporal arteritis ). Some toxins, such as\\nmethanol and lead, can also damage the optic nerve, ascan long-term abuse of alcohol and tobacco. Patientswith non-MS related optic neuritis are usually immuno-compromised in some way.\\nDiagnosis\\nAn ophthalmologist, a physician trained in diseases\\nof the eye, will typically make a diagnosis of optic neuri-tis. A complete visual exam, including a visual acuitytest, color vision test, and examination of the retina andoptic disc with an ophthalmoscope, will be performed.Clinical signs such as impaired pupil response may beapparent during an eye exam, but in some cases the eyemay appear normal. A medical history will also be per-formed to determine if exposure to toxins such as leadmay have caused the optic neuritis.\\nFurther diagnostic testing such as magnetic reso-\\nnance imaging (MRI) may be necessary to confirm a\\ndiagnosis of optic neuritis. An MRI can also reveal signsof multiple sclerosis.\\nTreatment\\nTreatment of optic neuritis depends on the underly-\\ning cause of the condition. Vision loss resulting from aviral condition usually resolves itself once the virus istreated, and optic neuritis resulting from toxin damagemay improve once the source of the toxin is removed.\\nA course of intravenous corticosteroids (steroids)\\nfollowed by oral steroids has been found to be helpful inrestoring vision quickly to patients with MS-relatedepisodes of optic neuritis, but its efficacy in preventingrelapse is debatable. The Optic Neuritis Treatment Trial(ONTT) has shown that IV steroids may be effective inreducing the onset of MS for up to two years, but furtherstudies are necessary. Oral prednisone has been found toincrease the likelihood of recurrent episodes of optic neu-ritis, and is not recommended for treating the disorder.\\nPrognosis\\nThe vision loss associated with optic neuritis is usually\\ntemporary. Spontaneous remission occurs in two to eightweeks. Sixty-five to eighty percent of patients can expect20/30 or better vision after recovery. Long-term prognosisdepends on the underlying cause of the condition. If a viralinfection has triggered the episode, it frequently resolvesitself with no after effects. If optic neuritis is associatedwith multiple sclerosis, future episodes are not uncommon.Thirty-three percent of optic neuritis cases recur within fiveyears. Each recurrence results in less recovery and worsen-ing vision. There is a strong association between optic neu-\\nGALE ENCYCLOPEDIA OF MEDICINE 2 2400Optic neuritis', metadata={'source': 'data\\\\Gale Encyclopedia of Medicine v4N_S.pdf', 'page': 106}),\n",
       " Document(page_content='ritis and MS. In those without multiple sclerosis, half who\\nexperience an episode of vision loss related to optic neuritiswill develop the disease within 15 years.\\nPrevention\\nRegular annual eye exams are critical to maintaining\\nhealthy vision. Early treatment of vision problems canprevent permanent optic nerve damage (atrophy).\\nResources\\nBOOKS\\nLeitman, Mark. Manual for Eye Examination and Diagnosis,\\n5th ed. Boston: Blackwell Science, 2001.\\nPERIODICALS\\nCohen, Joyce Render, et al. “Living with Low Vision.” Inside\\nMS1(2001):46.\\nORGANIZATIONS\\nPrevent Blindness America. 500 East Remington Road,\\nSchaumburg, IL 60173. (800) 331-2020. <http://www.prevent-blindness.org>.\\nPaula Ford-Martin\\nOral cancer seeHead and neck cancer\\nOral cholecystography seeGallbladder x rays\\nOral contraceptives\\nDefinition\\nOral contraceptives are medicines taken by mouth to\\nhelp prevent pregnancy . They are also known as the Pill,\\nOCs, or birth control pills.KEY TERMS\\nAtrophy —Cell wasting or death.\\nMultiple sclerosis —An autoimmune disease of the\\ncentral nervous system characterized by damageto the myelin sheath that covers nerves.\\nTemporal arteritis —Also known as giant cell arteri-\\ntis. Inflammation of the large arteries located in thetemples which is marked by the presence of giantcells and symptoms of headache and facial pain.\\nVisual acuity test —An eye examination that deter-\\nmines sharpness of vision, typically performed byidentifying objects and/or letters on an eye chart.Purpose\\nOral contraceptives, also known as birth control\\npills, contain artificially made forms of two hormonesproduced naturally in the body. These hormones, estro-gen and progestin, regulate a woman’s menstrual cycle.When taken in the proper amounts, following a specificschedule, oral contraceptives are very effective in pre-venting pregnancy. Studies show that less than one ofevery one hundred women who use oral contraceptivescorrectly becomes pregnant during the first year of use.\\nThese pills have several effects that help prevent preg-\\nnancy. For pregnancy to occur, an egg must become matureinside a woman’s ovary, be released, and travel to the fal-lopian tube. A male sperm must also reach the fallopiantube, where it fertilizes the egg. Then the fertilized eggmust travel to the woman’s uterus (womb), where it lodgesin the uterus lining and develops into a fetus. The main waythat oral contraceptives prevent pregnancy is by keeping anegg from ripening fully. Eggs that do not ripen fully cannotbe fertilized. In addition, birth control pills thicken mucusin the woman’s body through which the sperm has to swim.This makes it more difficult for the sperm to reach the egg.Oral contraceptives also change the uterine lining so that afertilized egg cannot lodge there to develop.\\nBirth control pills may cause good or bad side\\neffects. For example, a woman’s menstrual periods areregular and usually lighter when she is taking oral con-traceptives, and the pills may reduce the risk of ovarian\\ncysts , breast lumps, pelvic inflammatory disease , and\\nother medical problems. However, taking birth controlpills increases the risk of heart attack ,stroke , and blood\\nclots in certain women. Serious side effects such as theseare more likely in women over 35 years of age whosmoke cigarettes and in those with specific health prob-lems such as high blood pressure, diabetes, or a historyof breast or uterine cancer . A woman who wants to use\\noral contraceptives should ask her physician for the latestinformation on the risks and benefits of all types of birthcontrol and should consider her age, health, and medicalhistory when deciding what to use.\\nPrecautions\\nNo form of birth control (except not having sex) is\\n100% effective. However, oral contraceptives can behighly effective when used properly. Discuss the optionswith a health care professional.\\nOral contraceptives do not protect against AIDS or\\nother sexually transmitted diseases . For protection\\nagainst such diseases, use a latex condom .\\nOral contraceptives are not effective immediately\\nafter a woman begins taking them. Physicians recom-\\nGALE ENCYCLOPEDIA OF MEDICINE 2 2401Oral contraceptives', metadata={'source': 'data\\\\Gale Encyclopedia of Medicine v4N_S.pdf', 'page': 107}),\n",
       " Document(page_content='mend using other forms of birth control for the first 1–3\\nweeks. Follow the instructions of the physician who pre-scribed the medicine.\\nSmoking cigarettes while taking oral contraceptives\\ngreatly increases the risk of serious side effects. Women\\nwho take oral contraceptives should not smoke cigarettes.\\nSeeing a physician regularly while taking this medi-\\ncine is very important. The physician will note unwantedside effects. Follow his or her advice on how often youshould be seen.\\nAnyone taking oral contraceptives should be sure to\\ntell the health care professional in charge before havingany surgical or dental procedures, laboratory tests, oremergency treatment.\\nThis medicine may increase sensitivity to sunlight.\\nWomen using oral contraceptives should avoid too muchsun exposure and should not use tanning beds, tanningbooths, or sunlamps until they know how the medicineaffects them. Some women taking oral contraceptivesmay get brown splotches on exposed areas of their skin.These usually go away over time after the women stoptaking birth control pills.\\nOral contraceptives may cause the gums to become\\ntender and swollen or to bleed. Careful brushing andflossing, gum massage, and regular cleaning may helpprevent this problem. Check with a physician or dentist ifgum problems develop.\\nWomen who have certain medical conditions or who\\nare taking certain other medicines may have problems ifthey take oral contraceptives. Before taking these drugs, besure to let the physician know about any of these conditions:\\nALLERGIES. Anyone who has had unusual reactions\\nto estrogens or progestins in the past should let her physi-cian know before taking oral contraceptives. The physi-cian should also be told about any allergies to foods,\\ndyes, preservatives, or other substances.\\nPREGNANCY. Women who become pregnant or think\\nthey may have become pregnant while taking birth con-trol pills should stop taking them immediately and checkwith their physicians. Women who want to start takingoral contraceptives again after pregnancy should not refilltheir old prescriptions without checking with their physi-cians. The physician may need to change the prescription.\\nBREASTFEEDING. Women who are breastfeeding\\nshould check with their physicians before using oral con-traceptives. The hormones in the pills may reduce theamount of breast milk and may cause other problems inbreastfeeding. They may also cause jaundice and\\nenlarged breasts in nursing babies whose mothers takethe medicine.OTHER MEDICAL CONDITIONS. Oral contraceptives\\nmay improve or worsen some medical conditions. Thepossibility that they may make a condition worse doesnot necessarily mean they cannot be used. In some cases,women may need only to be tested or followed moreclosely for medical problems while using oral contracep-tives. Before using oral contraceptives, women with anyof these medical problems should make sure their physi-cians are aware of their conditions:\\n• Female conditions such as menstrual problems, endo-\\nmetriosis , or fibroid tumors of the uterus. Birth control\\npills usually make these problems better, but may some-times make them worse or more difficult to diagnose.\\n• Heart or circulation problems; recent or past blood clots\\nor stroke. Women who already have these problemsmay be at greater risk of developing blood clots or cir-culation problems if they use oral contraceptives. How-ever, healthy women who do not smoke may lower theirrisk of circulation problems and heart disease by takingthe pills.\\n• Breast cysts, lumps, or other noncancerous breast prob-\\nlems. Oral contraceptives generally protect againstthese conditions, but physicians may recommend morefrequent breast exams for women taking the pills.\\n•Breast cancer or other cancer (now or in the past, or\\nfamily history). Oral contraceptives may make someexisting cancers worse. Women with a family history ofbreast cancer may need more frequent screening for thedisease if they decide to take birth control pills.\\n• Migraine headaches. This condition may improve or\\nmay get worse with the use of birth control pills.\\n• Diabetes. Blood sugar levels may increase slightly\\nwhen oral contraceptives are used. Usually this increaseis not enough to affect the amount of diabetes medicineneeded. However, blood sugar will need to be moni-tored closely while taking oral contraceptives.\\n• Depression. This condition may worsen in women who\\nalready have it or may (rarely) occur again in womenwho were depressed in the past.\\n• Gallbladder disease, gallstones , high blood cholesterol,\\nor chorea gravidarum (a nervous disorder). Oral contra-ceptives may make these conditions worse.\\n• Epilepsy, high blood pressure, heart or circulation prob-\\nlems. By increasing fluid build-up, oral contraceptivesmay make these conditions worse.\\nDescription\\nOral contraceptives (birth control pills) come in a\\nwide range of estrogen-progestin combinations. Thepills in use today contain much lower doses of estrogen\\nGALE ENCYCLOPEDIA OF MEDICINE 2 2402Oral contraceptives', metadata={'source': 'data\\\\Gale Encyclopedia of Medicine v4N_S.pdf', 'page': 108}),\n",
       " Document(page_content='than those available in the past, and this change has\\nreduced the likelihood of serious side effects. Some pillscontain only progestin. These are prescribed mainly forwomen who need to avoid estrogens and may not be aseffective in preventing pregnancy as the estrogen-prog-estin combinations.\\nThese medicines come in tablet form, in containers\\ndesigned to help women keep track of which tablet totake each day. The tablets are different colors, indicatingamounts of hormones they contain. Some may containno hormones at all. These are included simply to helpwomen stay in the habit of taking a pill every day, as thehormone combination needs to be taken only on certaindays of the menstrual cycle. Keeping the tablets in theiroriginal container and taking them exactly on schedule isvery important. They will not be as effective if they aretaken in the wrong order or if doses are missed.\\nOral contraceptives are available only with a physi-\\ncian’s prescription. Some commonly used brands areDemulen, Desogen, Loestrin, Lo/Ovral, Nordette, Ortho-Novum, Ortho-Tri-Cyclen, Estrostep, Ortho-cept,Alesse, Levlite and Ovcon.\\nThe dose schedule depends on the type of oral con-\\ntraceptive. The two basic schedules are a 21-day sched-ule and a 28-day schedule. On the 21-day schedule, take1 tablet a day for 21 days, then skip 7 days and repeat thecycle. On the 28-day schedule, take one tablet a day for28 days; then repeat the cycle. Be sure to carefully followthe instructions provided with the medicine. For addi-tional information or explanations, check with the physi-cian who prescribed the medicine or the pharmacist whofilled the prescription.\\nTaking doses more than 24 hours apart may increase\\nthe chance of side effects or pregnancy. Try to take themedicine at the same time every day. Take care not to runout of pills. If possible, keep an extra month’s supply onhand and replace it every month with the most recentlyfilled prescription.\\nTry not to miss a dose, as this increases the risk of\\npregnancy. If a dose is missed, follow the package direc-tions or check with the physician who prescribed themedicine for instructions. It may be necessary to useanother form of birth control for some time after missinga dose.\\nTaking this medicine with food or at bedtime will\\nhelp prevent nausea, a side effect that sometimes occursduring the first few weeks. This side effect usually goesaway as the body adjusts to the medicine.\\nTaking oral contraceptives may have several benefits\\noutside of their ability to prevent pregnancy. Researchindicates that with 10 to 12 years of oral contraceptiveuse, a woman’s risk of ovarian cancer is reduced by up\\nto 80%. There may also be an approximate 50% decreasein the rate of endometrial cancers in women. One otherwell-known, noncontraceptive benefit of oral contracep-tives is an improvement in acne . The combination oral\\ncontraceptive ethinyl estradiol/norgestimate has beenapproved by the Food and Drug Administration for thetreatment of acne. Another positive effect of oral contra-ceptive use is improvement in abnormal uterine bleeding.Older women may also benefit from using oral contra-ceptives, because the pills can increase bone mass aswomen enter their menopausal years, when osteoporosis\\nis a growing concern.\\nOral contraceptives may also be used on an emer-\\ngency basis as a means of preventing pregnancy inwomen who have had unprotected intercourse. Twoproducts specifically designed for this purpose are Pre-ven and Plan B. In 2001, the American College of Obste-tricians and Gynecologists (ACOG) recommended thatemergency oral contraceptives be available as an over-the-counter medicine. The Food and Drug Administra-tion, however, has not yet approved any measures thatwould allow this to happen.\\nRisks\\nTaking oral contraceptives with certain other drugs\\nmay affect the way the drugs work or may increase thechance of side effects.\\nSide Effects\\nSerious side effects are rare in healthy women who\\ndo not smoke cigarettes. In women with certain healthproblems, however, oral contraceptives may cause prob-lems such as liver cancer , noncancerous liver tumors,\\nblood clots, or stroke. Health care professionals can helpwomen weigh the benefits of being protected againstunwanted pregnancy against the risks of possible healthproblems.\\nThe most common minor side effects are nausea; vom-\\niting; abdominal cramping or bloating; breast pain, tender-\\nness or swelling; swollen ankles or feet; tiredness; andacne. These problems usually go away as the body adjuststo the drug and do not need medical attention unless theycontinue or they interfere with normal activities.\\nOther side effects should be brought to the attention\\nof the physician who prescribed the medicine. Checkwith the physician as soon as possible if any of the fol-lowing side effects occur:\\n• menstrual changes, such as lighter periods or missed\\nperiods, longer periods, or bleeding or spotting betweenperiods\\nGALE ENCYCLOPEDIA OF MEDICINE 2 2403Oral contraceptives', metadata={'source': 'data\\\\Gale Encyclopedia of Medicine v4N_S.pdf', 'page': 109})]"
      ]
     },
     "execution_count": 28,
     "metadata": {},
     "output_type": "execute_result"
    }
   ],
   "source": [
    "#check data \n",
    "extracted_data[100:110]"
   ]
  },
  {
   "cell_type": "code",
   "execution_count": 30,
   "metadata": {},
   "outputs": [],
   "source": [
    "# Create text chunks \n",
    "def text_split(extracted_data) : \n",
    "  return  RecursiveCharacterTextSplitter(chunk_size = 500, chunk_overlap = 20).split_documents(extracted_data)\n"
   ]
  },
  {
   "cell_type": "code",
   "execution_count": 31,
   "metadata": {},
   "outputs": [
    {
     "name": "stdout",
     "output_type": "stream",
     "text": [
      "length of my chunk: 24487\n"
     ]
    }
   ],
   "source": [
    "text_chunks = text_split(extracted_data)\n",
    "print(\"length of my chunk:\", len(text_chunks))"
   ]
  },
  {
   "cell_type": "code",
   "execution_count": 33,
   "metadata": {},
   "outputs": [
    {
     "data": {
      "text/plain": [
       "[Document(page_content='though, like all major surgery, it does carry some risks.These include unanticipated reaction to anesthesia, inter-nal bleeding, blood clots, accidental damage to otherorgans, and post-surgery infection.\\nComplications after an oophorectomy include', metadata={'source': 'data\\\\Gale Encyclopedia of Medicine v4N_S.pdf', 'page': 99}),\n",
       " Document(page_content='changes in sex drive, hot flashes, and other symptoms ofmenopause if both ovaries are removed. Women whohave both ovaries removed and who do not take estrogenreplacement therapy run an increased risk for cardiovas-cular disease and osteoporosis. Women with a history ofpsychological and emotional problems before anoophorectomy are more likely to experience psychologi-cal difficulties after the operation.\\nGALE ENCYCLOPEDIA OF MEDICINE 2 2393Oophorectomy', metadata={'source': 'data\\\\Gale Encyclopedia of Medicine v4N_S.pdf', 'page': 99}),\n",
       " Document(page_content='Normal results\\nIf the surgery is successful, the ovaries will be\\nremoved without complication, and the underlying prob-lem resolved. In the case of cancer, all the cancer will beremoved.\\nAbnormal results\\nComplications may arise if the surgeon finds that\\ncancer has spread to other places in the abdomen. If thecancer cannot be removed by surgery, it must be treatedwith chemotherapy and radiation.\\nResources\\nPERIODICALS\\n“Removing Ovaries Lowers Risk for Women at High Risk of', metadata={'source': 'data\\\\Gale Encyclopedia of Medicine v4N_S.pdf', 'page': 100}),\n",
       " Document(page_content='Breast, Ovarian Cancer.” ACS News Today 8 November\\n2000. <http://www.cancer.org>.\\nORGANIZATIONS\\nAmerican Cancer Society National Headquarters. 1599 Clifton\\nRoad NE, Atlanta, GA 30329. (800)ACS-2345. <http://www.cancer.org>.\\nCancer Information Service, National Cancer Institute. Build-\\ning 31, Room 10A19, 9000 Rockville Pike, Bethesda, MD20892. (800)4-CANCER. <http://www.nci.nih.gov/cancerinfo/index.html>.\\nTish Davidson, A.M.\\nOpen fracture reduction seeFracture repair', metadata={'source': 'data\\\\Gale Encyclopedia of Medicine v4N_S.pdf', 'page': 100}),\n",
       " Document(page_content='Ophthalmic antibiotics seeAntibiotics,\\nophthalmic\\nOphthalmoplegia\\nDefinition\\nOphthalmoplegia is a paralysis or weakness of one', metadata={'source': 'data\\\\Gale Encyclopedia of Medicine v4N_S.pdf', 'page': 100}),\n",
       " Document(page_content='or more of the muscles that control eye movement. Thecondition can be caused by any of several neurologic dis-orders. It may be myopathic, meaning that the musclescontrolling eye movement are directly involved, or neu-rogenic, meaning that the nerve pathways controlling eyemuscles are affected. Diseases associated with ophthal-moplegia are ocular myopathy, which affects muscles,and internuclear ophthalmoplegia, a disorder caused bymultiple sclerosis , a disease which affects nerves.\\nDescription', metadata={'source': 'data\\\\Gale Encyclopedia of Medicine v4N_S.pdf', 'page': 100}),\n",
       " Document(page_content='Description\\nBecause the eyes do not move together in ophthal-\\nmoplegia, patients may complain of double vision. Dou-ble vision is especially troublesome if the ophthalmople-gia comes on suddenly or affects each eye differently.Because ophthalmoplegia is caused by another, underly-ing disease, it is often associated with other neurologicsymptoms, including limb weakness, lack of coordina-tion, and numbness.\\nCauses and symptoms\\nOcular myopathy is also known as mitochondrial', metadata={'source': 'data\\\\Gale Encyclopedia of Medicine v4N_S.pdf', 'page': 100}),\n",
       " Document(page_content='encephalomyelopathy with ophthalmoplegia or progres-sive external ophthalmoplegia. Because it is so often asso-ciated with diseases affecting many levels of the neuro-logic system, it is often referred to as “ophthalmoplegiaplus.” The main feature is progressive limitation of eyemovements, usually with drooping of the eyelids ( ptosis ).', metadata={'source': 'data\\\\Gale Encyclopedia of Medicine v4N_S.pdf', 'page': 100}),\n",
       " Document(page_content='Ptosis may occur years before other symptoms of oph-thalmoplegia. Because both eyes are equally involved andbecause ability to move the eyes lessens gradually overthe course of years, double vision is rare. On examination,the eyelids may appear thin. This disease usually beginsin childhood or adolescence but may start later.\\nWhen ophthalmoplegia is caused by muscle degen-', metadata={'source': 'data\\\\Gale Encyclopedia of Medicine v4N_S.pdf', 'page': 100}),\n",
       " Document(page_content='eration (myopathic), muscle biopsy, in which a smallpiece of muscle is surgically removed and examinedmicroscopically, will find characteristic abnormal musclefibers called ragged red fibers. In this form of ophthal-moplegia, the patient may experience weakness of theface, the muscles involved in swallowing, the neck, orthe limbs.\\nProgressive external ophthalmoplegia is sometimes', metadata={'source': 'data\\\\Gale Encyclopedia of Medicine v4N_S.pdf', 'page': 100})]"
      ]
     },
     "execution_count": 33,
     "metadata": {},
     "output_type": "execute_result"
    }
   ],
   "source": [
    "# text_chunks\n",
    "text_chunks[1000:1010]"
   ]
  },
  {
   "cell_type": "code",
   "execution_count": 34,
   "metadata": {},
   "outputs": [
    {
     "name": "stderr",
     "output_type": "stream",
     "text": [
      "c:\\Users\\jerry\\anaconda3\\envs\\mchatbot\\lib\\site-packages\\huggingface_hub\\utils\\_deprecation.py:131: FutureWarning: 'cached_download' (from 'huggingface_hub.file_download') is deprecated and will be removed from version '0.26'. Use `hf_hub_download` instead.\n",
      "  warnings.warn(warning_message, FutureWarning)\n",
      "c:\\Users\\jerry\\anaconda3\\envs\\mchatbot\\lib\\site-packages\\transformers\\tokenization_utils_base.py:1601: FutureWarning: `clean_up_tokenization_spaces` was not set. It will be set to `True` by default. This behavior will be depracted in transformers v4.45, and will be then set to `False` by default. For more details check this issue: https://github.com/huggingface/transformers/issues/31884\n",
      "  warnings.warn(\n"
     ]
    }
   ],
   "source": [
    "#download embedding model\n",
    "\n",
    "model_name=\"sentence-transformers/all-MiniLM-L6-v2\"\n",
    "embeddings = HuggingFaceEmbeddings(model_name=model_name)\n"
   ]
  },
  {
   "cell_type": "code",
   "execution_count": 35,
   "metadata": {},
   "outputs": [
    {
     "data": {
      "text/plain": [
       "HuggingFaceEmbeddings(client=SentenceTransformer(\n",
       "  (0): Transformer({'max_seq_length': 256, 'do_lower_case': False}) with Transformer model: BertModel \n",
       "  (1): Pooling({'word_embedding_dimension': 384, 'pooling_mode_cls_token': False, 'pooling_mode_mean_tokens': True, 'pooling_mode_max_tokens': False, 'pooling_mode_mean_sqrt_len_tokens': False})\n",
       "  (2): Normalize()\n",
       "), model_name='sentence-transformers/all-MiniLM-L6-v2', cache_folder=None, model_kwargs={}, encode_kwargs={})"
      ]
     },
     "execution_count": 35,
     "metadata": {},
     "output_type": "execute_result"
    }
   ],
   "source": [
    "embeddings"
   ]
  },
  {
   "cell_type": "code",
   "execution_count": 36,
   "metadata": {},
   "outputs": [
    {
     "name": "stdout",
     "output_type": "stream",
     "text": [
      "Length 384\n"
     ]
    }
   ],
   "source": [
    "query_result = embeddings.embed_query(\"Hello world\")\n",
    "print(\"Length\", len(query_result))"
   ]
  },
  {
   "cell_type": "code",
   "execution_count": 47,
   "metadata": {},
   "outputs": [],
   "source": [
    "#query_result\n",
    "#Initializing the Pinecone\n",
    "\n",
    "pc=pinecone.Pinecone(api_key=PINECONE_API_KEY,\n",
    "              environment=PINECONE_API_ENV,\n",
    "              regionnnnn=\"us-east-1\")\n"
   ]
  },
  {
   "cell_type": "code",
   "execution_count": 63,
   "metadata": {},
   "outputs": [],
   "source": [
    "index_name=\"medical-chatbot\"\n",
    "\n",
    "index = pc.Index(index_name)"
   ]
  },
  {
   "cell_type": "code",
   "execution_count": 66,
   "metadata": {},
   "outputs": [],
   "source": [
    "#!pip install langchain_pinecone "
   ]
  },
  {
   "cell_type": "code",
   "execution_count": 67,
   "metadata": {},
   "outputs": [],
   "source": [
    "\n",
    "from langchain_pinecone import Pinecone   # from langgchain\n",
    "#Creating Embeddings for Each of The Text Chunks & storing\n",
    "docsearch=Pinecone.from_texts([t.page_content for t in text_chunks], embeddings, index_name=index_name)\n"
   ]
  },
  {
   "cell_type": "code",
   "execution_count": 83,
   "metadata": {},
   "outputs": [
    {
     "name": "stdout",
     "output_type": "stream",
     "text": [
      "Result [Document(page_content='In autonomic dysreflexia, irritation of the skin,\\nbowel, or bladder causes a highly exaggerated responsefrom autonomic nerves. This response is caused by theuncontrolled release of norepinephrine, a hormone simi-lar to adrenaline. Uncontrolled release of norepinephrinecauses a rapid rise in blood pressure and a slowing of theheart rate. These symptoms are accompanied by throb-bing headache , nausea, anxiety , sweating, and goose'), Document(page_content='head (fontanel) may be depressed. Symptoms of dehy-\\ndration at any age include cracked lips, dry or sticky\\nmouth, lethargy, and sunken eyes. A person who is\\ndehydrated cries without shedding tears and does not\\nurinate very often. The skin is less elastic than it should\\nbe and is slow to return to its normal position after\\nbeing pinched.\\nDehydration can cause confusion, constipation , dis-\\ncomfort, drowsiness, fever, and thirst. The skin turns pale'), Document(page_content='bing pain caused by irritation of or damage to a nerve.\\nThe pain is usually brief but may be severe. It often feelsas if it is shooting along the course of the affected nerve.\\nDescription\\nDifferent types of neuralgia occur depending on the\\nreason the nerve has been irritated. Neuralgia can be trig-gered by a variety of causes, including tooth decay ,e y e\\nstrain, or shingles (an infection caused by the herpes')]\n"
     ]
    }
   ],
   "source": [
    "#If we already have an index we can load it like this\n",
    "docsearch=Pinecone.from_existing_index(index_name, embeddings)\n",
    "\n",
    "query = \"What are Allergies\"\n",
    "query = \"Why sometime I can feel ichy\"\n",
    "\n",
    "\n",
    "docs=docsearch.similarity_search(query, k=3)\n",
    "\n",
    "print(\"Result\", docs)"
   ]
  },
  {
   "cell_type": "code",
   "execution_count": 84,
   "metadata": {},
   "outputs": [
    {
     "name": "stdout",
     "output_type": "stream",
     "text": [
      "In autonomic dysreflexia, irritation of the skin,\n",
      "bowel, or bladder causes a highly exaggerated responsefrom autonomic nerves. This response is caused by theuncontrolled release of norepinephrine, a hormone simi-lar to adrenaline. Uncontrolled release of norepinephrinecauses a rapid rise in blood pressure and a slowing of theheart rate. These symptoms are accompanied by throb-bing headache , nausea, anxiety , sweating, and goose\n",
      "\n",
      " -- EOL -- \n",
      "\n",
      "head (fontanel) may be depressed. Symptoms of dehy-\n",
      "dration at any age include cracked lips, dry or sticky\n",
      "mouth, lethargy, and sunken eyes. A person who is\n",
      "dehydrated cries without shedding tears and does not\n",
      "urinate very often. The skin is less elastic than it should\n",
      "be and is slow to return to its normal position after\n",
      "being pinched.\n",
      "Dehydration can cause confusion, constipation , dis-\n",
      "comfort, drowsiness, fever, and thirst. The skin turns pale\n",
      "\n",
      " -- EOL -- \n",
      "\n",
      "bing pain caused by irritation of or damage to a nerve.\n",
      "The pain is usually brief but may be severe. It often feelsas if it is shooting along the course of the affected nerve.\n",
      "Description\n",
      "Different types of neuralgia occur depending on the\n",
      "reason the nerve has been irritated. Neuralgia can be trig-gered by a variety of causes, including tooth decay ,e y e\n",
      "strain, or shingles (an infection caused by the herpes\n",
      "\n",
      " -- EOL -- \n",
      "\n"
     ]
    }
   ],
   "source": [
    "for d in docs: print(d.page_content); print(\"\\n -- EOL -- \\n\")"
   ]
  },
  {
   "cell_type": "code",
   "execution_count": 85,
   "metadata": {},
   "outputs": [],
   "source": [
    "prompt_template=\"\"\"\n",
    "Use the following pieces of information to answer the user's question.\n",
    "If you don't know the answer, just say that you don't know, don't try to make up an answer.\n",
    "\n",
    "Context: {context}\n",
    "Question: {question}\n",
    "\n",
    "Only return the helpful answer below and nothing else.\n",
    "Helpful answer:\n",
    "\"\"\""
   ]
  },
  {
   "cell_type": "code",
   "execution_count": 86,
   "metadata": {},
   "outputs": [],
   "source": [
    "PROMPT=PromptTemplate(template=prompt_template, input_variables=[\"context\", \"question\"])\n",
    "chain_type_kwargs={\"prompt\": PROMPT}"
   ]
  },
  {
   "cell_type": "code",
   "execution_count": 99,
   "metadata": {},
   "outputs": [],
   "source": [
    "from langchain.llms import CTransformers\n",
    "import transformers"
   ]
  },
  {
   "cell_type": "code",
   "execution_count": 100,
   "metadata": {},
   "outputs": [
    {
     "name": "stderr",
     "output_type": "stream",
     "text": [
      "Fetching 1 files: 100%|██████████| 1/1 [00:00<?, ?it/s]\n",
      "Fetching 1 files: 100%|██████████| 1/1 [00:00<?, ?it/s]\n"
     ]
    },
    {
     "ename": "RuntimeError",
     "evalue": "Failed to create LLM 'llama' from 'C:\\Users\\jerry\\.cache\\huggingface\\hub\\models--TheBloke--Llama-2-7B-Chat-GGML\\snapshots\\76cd63c351ae389e1d4b91cab2cf470aab11864b\\llama-2-7b-chat.ggmlv3.q2_K.bin'.",
     "output_type": "error",
     "traceback": [
      "\u001b[1;31m---------------------------------------------------------------------------\u001b[0m",
      "\u001b[1;31mRuntimeError\u001b[0m                              Traceback (most recent call last)",
      "Cell \u001b[1;32mIn[100], line 7\u001b[0m\n\u001b[0;32m      5\u001b[0m m\u001b[38;5;241m=\u001b[39m\u001b[38;5;124m\"\u001b[39m\u001b[38;5;124mTripti-123/llama-2-7b-chat.ggmlv3.q8_0.bin\u001b[39m\u001b[38;5;124m\"\u001b[39m\n\u001b[0;32m      6\u001b[0m m\u001b[38;5;241m=\u001b[39m\u001b[38;5;124m\"\u001b[39m\u001b[38;5;124mTheBloke/Llama-2-7B-Chat-GGML\u001b[39m\u001b[38;5;124m\"\u001b[39m\n\u001b[1;32m----> 7\u001b[0m llm\u001b[38;5;241m=\u001b[39m\u001b[43mCTransformers\u001b[49m\u001b[43m(\u001b[49m\u001b[43mmodel\u001b[49m\u001b[38;5;241;43m=\u001b[39;49m\u001b[43mm\u001b[49m\u001b[43m,\u001b[49m\u001b[43m \u001b[49m\u001b[43mmodel_type\u001b[49m\u001b[38;5;241;43m=\u001b[39;49m\u001b[38;5;124;43m\"\u001b[39;49m\u001b[38;5;124;43mllama\u001b[39;49m\u001b[38;5;124;43m\"\u001b[39;49m\u001b[43m,\u001b[49m\u001b[43m \u001b[49m\u001b[43mconfig\u001b[49m\u001b[38;5;241;43m=\u001b[39;49m\u001b[43m{\u001b[49m\u001b[38;5;124;43m'\u001b[39;49m\u001b[38;5;124;43mmax_new_tokens\u001b[39;49m\u001b[38;5;124;43m'\u001b[39;49m\u001b[43m:\u001b[49m\u001b[38;5;241;43m512\u001b[39;49m\u001b[43m,\u001b[49m\u001b[38;5;124;43m'\u001b[39;49m\u001b[38;5;124;43mtemperature\u001b[39;49m\u001b[38;5;124;43m'\u001b[39;49m\u001b[43m:\u001b[49m\u001b[38;5;241;43m0.01\u001b[39;49m\u001b[43m}\u001b[49m\u001b[43m)\u001b[49m\n",
      "File \u001b[1;32mc:\\Users\\jerry\\anaconda3\\envs\\mchatbot\\lib\\site-packages\\langchain\\load\\serializable.py:74\u001b[0m, in \u001b[0;36mSerializable.__init__\u001b[1;34m(self, **kwargs)\u001b[0m\n\u001b[0;32m     73\u001b[0m \u001b[38;5;28;01mdef\u001b[39;00m \u001b[38;5;21m__init__\u001b[39m(\u001b[38;5;28mself\u001b[39m, \u001b[38;5;241m*\u001b[39m\u001b[38;5;241m*\u001b[39mkwargs: Any) \u001b[38;5;241m-\u001b[39m\u001b[38;5;241m>\u001b[39m \u001b[38;5;28;01mNone\u001b[39;00m:\n\u001b[1;32m---> 74\u001b[0m     \u001b[38;5;28;43msuper\u001b[39;49m\u001b[43m(\u001b[49m\u001b[43m)\u001b[49m\u001b[38;5;241;43m.\u001b[39;49m\u001b[38;5;21;43m__init__\u001b[39;49m\u001b[43m(\u001b[49m\u001b[38;5;241;43m*\u001b[39;49m\u001b[38;5;241;43m*\u001b[39;49m\u001b[43mkwargs\u001b[49m\u001b[43m)\u001b[49m\n\u001b[0;32m     75\u001b[0m     \u001b[38;5;28mself\u001b[39m\u001b[38;5;241m.\u001b[39m_lc_kwargs \u001b[38;5;241m=\u001b[39m kwargs\n",
      "File \u001b[1;32mc:\\Users\\jerry\\anaconda3\\envs\\mchatbot\\lib\\site-packages\\pydantic\\main.py:339\u001b[0m, in \u001b[0;36mpydantic.main.BaseModel.__init__\u001b[1;34m()\u001b[0m\n",
      "File \u001b[1;32mc:\\Users\\jerry\\anaconda3\\envs\\mchatbot\\lib\\site-packages\\pydantic\\main.py:1100\u001b[0m, in \u001b[0;36mpydantic.main.validate_model\u001b[1;34m()\u001b[0m\n",
      "File \u001b[1;32mc:\\Users\\jerry\\anaconda3\\envs\\mchatbot\\lib\\site-packages\\langchain\\llms\\ctransformers.py:70\u001b[0m, in \u001b[0;36mCTransformers.validate_environment\u001b[1;34m(cls, values)\u001b[0m\n\u001b[0;32m     64\u001b[0m     \u001b[38;5;28;01mraise\u001b[39;00m \u001b[38;5;167;01mImportError\u001b[39;00m(\n\u001b[0;32m     65\u001b[0m         \u001b[38;5;124m\"\u001b[39m\u001b[38;5;124mCould not import `ctransformers` package. \u001b[39m\u001b[38;5;124m\"\u001b[39m\n\u001b[0;32m     66\u001b[0m         \u001b[38;5;124m\"\u001b[39m\u001b[38;5;124mPlease install it with `pip install ctransformers`\u001b[39m\u001b[38;5;124m\"\u001b[39m\n\u001b[0;32m     67\u001b[0m     )\n\u001b[0;32m     69\u001b[0m config \u001b[38;5;241m=\u001b[39m values[\u001b[38;5;124m\"\u001b[39m\u001b[38;5;124mconfig\u001b[39m\u001b[38;5;124m\"\u001b[39m] \u001b[38;5;129;01mor\u001b[39;00m {}\n\u001b[1;32m---> 70\u001b[0m values[\u001b[38;5;124m\"\u001b[39m\u001b[38;5;124mclient\u001b[39m\u001b[38;5;124m\"\u001b[39m] \u001b[38;5;241m=\u001b[39m \u001b[43mAutoModelForCausalLM\u001b[49m\u001b[38;5;241;43m.\u001b[39;49m\u001b[43mfrom_pretrained\u001b[49m\u001b[43m(\u001b[49m\n\u001b[0;32m     71\u001b[0m \u001b[43m    \u001b[49m\u001b[43mvalues\u001b[49m\u001b[43m[\u001b[49m\u001b[38;5;124;43m\"\u001b[39;49m\u001b[38;5;124;43mmodel\u001b[39;49m\u001b[38;5;124;43m\"\u001b[39;49m\u001b[43m]\u001b[49m\u001b[43m,\u001b[49m\n\u001b[0;32m     72\u001b[0m \u001b[43m    \u001b[49m\u001b[43mmodel_type\u001b[49m\u001b[38;5;241;43m=\u001b[39;49m\u001b[43mvalues\u001b[49m\u001b[43m[\u001b[49m\u001b[38;5;124;43m\"\u001b[39;49m\u001b[38;5;124;43mmodel_type\u001b[39;49m\u001b[38;5;124;43m\"\u001b[39;49m\u001b[43m]\u001b[49m\u001b[43m,\u001b[49m\n\u001b[0;32m     73\u001b[0m \u001b[43m    \u001b[49m\u001b[43mmodel_file\u001b[49m\u001b[38;5;241;43m=\u001b[39;49m\u001b[43mvalues\u001b[49m\u001b[43m[\u001b[49m\u001b[38;5;124;43m\"\u001b[39;49m\u001b[38;5;124;43mmodel_file\u001b[39;49m\u001b[38;5;124;43m\"\u001b[39;49m\u001b[43m]\u001b[49m\u001b[43m,\u001b[49m\n\u001b[0;32m     74\u001b[0m \u001b[43m    \u001b[49m\u001b[43mlib\u001b[49m\u001b[38;5;241;43m=\u001b[39;49m\u001b[43mvalues\u001b[49m\u001b[43m[\u001b[49m\u001b[38;5;124;43m\"\u001b[39;49m\u001b[38;5;124;43mlib\u001b[39;49m\u001b[38;5;124;43m\"\u001b[39;49m\u001b[43m]\u001b[49m\u001b[43m,\u001b[49m\n\u001b[0;32m     75\u001b[0m \u001b[43m    \u001b[49m\u001b[38;5;241;43m*\u001b[39;49m\u001b[38;5;241;43m*\u001b[39;49m\u001b[43mconfig\u001b[49m\u001b[43m,\u001b[49m\n\u001b[0;32m     76\u001b[0m \u001b[43m\u001b[49m\u001b[43m)\u001b[49m\n\u001b[0;32m     77\u001b[0m \u001b[38;5;28;01mreturn\u001b[39;00m values\n",
      "File \u001b[1;32mc:\\Users\\jerry\\anaconda3\\envs\\mchatbot\\lib\\site-packages\\ctransformers\\hub.py:157\u001b[0m, in \u001b[0;36mAutoModelForCausalLM.from_pretrained\u001b[1;34m(cls, model_path_or_repo_id, model_type, model_file, config, lib, local_files_only, **kwargs)\u001b[0m\n\u001b[0;32m    150\u001b[0m \u001b[38;5;28;01melif\u001b[39;00m path_type \u001b[38;5;241m==\u001b[39m \u001b[38;5;124m\"\u001b[39m\u001b[38;5;124mrepo\u001b[39m\u001b[38;5;124m\"\u001b[39m:\n\u001b[0;32m    151\u001b[0m     model_path \u001b[38;5;241m=\u001b[39m \u001b[38;5;28mcls\u001b[39m\u001b[38;5;241m.\u001b[39m_find_model_path_from_repo(\n\u001b[0;32m    152\u001b[0m         model_path_or_repo_id,\n\u001b[0;32m    153\u001b[0m         model_file,\n\u001b[0;32m    154\u001b[0m         local_files_only\u001b[38;5;241m=\u001b[39mlocal_files_only,\n\u001b[0;32m    155\u001b[0m     )\n\u001b[1;32m--> 157\u001b[0m \u001b[38;5;28;01mreturn\u001b[39;00m \u001b[43mLLM\u001b[49m\u001b[43m(\u001b[49m\n\u001b[0;32m    158\u001b[0m \u001b[43m    \u001b[49m\u001b[43mmodel_path\u001b[49m\u001b[38;5;241;43m=\u001b[39;49m\u001b[43mmodel_path\u001b[49m\u001b[43m,\u001b[49m\n\u001b[0;32m    159\u001b[0m \u001b[43m    \u001b[49m\u001b[43mmodel_type\u001b[49m\u001b[38;5;241;43m=\u001b[39;49m\u001b[43mmodel_type\u001b[49m\u001b[43m,\u001b[49m\n\u001b[0;32m    160\u001b[0m \u001b[43m    \u001b[49m\u001b[43mconfig\u001b[49m\u001b[38;5;241;43m=\u001b[39;49m\u001b[43mconfig\u001b[49m\u001b[38;5;241;43m.\u001b[39;49m\u001b[43mconfig\u001b[49m\u001b[43m,\u001b[49m\n\u001b[0;32m    161\u001b[0m \u001b[43m    \u001b[49m\u001b[43mlib\u001b[49m\u001b[38;5;241;43m=\u001b[39;49m\u001b[43mlib\u001b[49m\u001b[43m,\u001b[49m\n\u001b[0;32m    162\u001b[0m \u001b[43m\u001b[49m\u001b[43m)\u001b[49m\n",
      "File \u001b[1;32mc:\\Users\\jerry\\anaconda3\\envs\\mchatbot\\lib\\site-packages\\ctransformers\\llm.py:205\u001b[0m, in \u001b[0;36mLLM.__init__\u001b[1;34m(self, model_path, model_type, config, lib)\u001b[0m\n\u001b[0;32m    198\u001b[0m \u001b[38;5;28mself\u001b[39m\u001b[38;5;241m.\u001b[39m_llm \u001b[38;5;241m=\u001b[39m \u001b[38;5;28mself\u001b[39m\u001b[38;5;241m.\u001b[39m_lib\u001b[38;5;241m.\u001b[39mctransformers_llm_create(\n\u001b[0;32m    199\u001b[0m     model_path\u001b[38;5;241m.\u001b[39mencode(),\n\u001b[0;32m    200\u001b[0m     model_type\u001b[38;5;241m.\u001b[39mencode(),\n\u001b[0;32m    201\u001b[0m     config\u001b[38;5;241m.\u001b[39mcontext_length,\n\u001b[0;32m    202\u001b[0m     config\u001b[38;5;241m.\u001b[39mgpu_layers,\n\u001b[0;32m    203\u001b[0m )\n\u001b[0;32m    204\u001b[0m \u001b[38;5;28;01mif\u001b[39;00m \u001b[38;5;28mself\u001b[39m\u001b[38;5;241m.\u001b[39m_llm \u001b[38;5;129;01mis\u001b[39;00m \u001b[38;5;28;01mNone\u001b[39;00m:\n\u001b[1;32m--> 205\u001b[0m     \u001b[38;5;28;01mraise\u001b[39;00m \u001b[38;5;167;01mRuntimeError\u001b[39;00m(\n\u001b[0;32m    206\u001b[0m         \u001b[38;5;124mf\u001b[39m\u001b[38;5;124m\"\u001b[39m\u001b[38;5;124mFailed to create LLM \u001b[39m\u001b[38;5;124m'\u001b[39m\u001b[38;5;132;01m{\u001b[39;00mmodel_type\u001b[38;5;132;01m}\u001b[39;00m\u001b[38;5;124m'\u001b[39m\u001b[38;5;124m from \u001b[39m\u001b[38;5;124m'\u001b[39m\u001b[38;5;132;01m{\u001b[39;00mmodel_path\u001b[38;5;132;01m}\u001b[39;00m\u001b[38;5;124m'\u001b[39m\u001b[38;5;124m.\u001b[39m\u001b[38;5;124m\"\u001b[39m\n\u001b[0;32m    207\u001b[0m     )\n",
      "\u001b[1;31mRuntimeError\u001b[0m: Failed to create LLM 'llama' from 'C:\\Users\\jerry\\.cache\\huggingface\\hub\\models--TheBloke--Llama-2-7B-Chat-GGML\\snapshots\\76cd63c351ae389e1d4b91cab2cf470aab11864b\\llama-2-7b-chat.ggmlv3.q2_K.bin'."
     ]
    }
   ],
   "source": [
    "\n",
    "m=\"Suriya03/llama-2-7b-chat.ggmlv3.q5_1.bin\"  # No model file found in repo \n",
    "m=\"sonyjamalpur/llama-2-7b-chat.ggmlv3.q8_0.bin\" # No model file found in repo \n",
    "m=\"patliu1001/llama-2-7b-chat.ggmlv3.q8_0.bin\"\n",
    "m=\"model/llama-2-7b-chat.ggmlv3.q4_0.bin\"   # not found\n",
    "m=\"Tripti-123/llama-2-7b-chat.ggmlv3.q8_0.bin\"\n",
    "m=\"TheBloke/Llama-2-7B-Chat-GGML\"\n",
    "llm=CTransformers(model=m, model_type=\"llama\", config={'max_new_tokens':512,'temperature':0.01})"
   ]
  },
  {
   "cell_type": "code",
   "execution_count": null,
   "metadata": {},
   "outputs": [],
   "source": [
    "qa=RetrievalQA.from_chain_type(\n",
    "    llm=llm, \n",
    "    chain_type=\"stuff\", \n",
    "    retriever=docsearch.as_retriever(search_kwargs={'k': 2}),\n",
    "    return_source_documents=True, \n",
    "    chain_type_kwargs=chain_type_kwargs)"
   ]
  },
  {
   "cell_type": "code",
   "execution_count": null,
   "metadata": {},
   "outputs": [
    {
     "name": "stdout",
     "output_type": "stream",
     "text": [
      "Response :  Acne is a common skin disease characterized by pimples on the face, chest, and back that occur when the pores of the skin become clogged with oil, dead skin cells, and bacteria.\n"
     ]
    },
    {
     "ename": "KeyboardInterrupt",
     "evalue": "",
     "output_type": "error",
     "traceback": [
      "\u001b[1;31m---------------------------------------------------------------------------\u001b[0m",
      "\u001b[1;31mKeyboardInterrupt\u001b[0m                         Traceback (most recent call last)",
      "Cell \u001b[1;32mIn[24], line 3\u001b[0m\n\u001b[0;32m      1\u001b[0m \u001b[38;5;28;01mwhile\u001b[39;00m \u001b[38;5;28;01mTrue\u001b[39;00m:\n\u001b[0;32m      2\u001b[0m     user_input\u001b[38;5;241m=\u001b[39m\u001b[38;5;28minput\u001b[39m(\u001b[38;5;124mf\u001b[39m\u001b[38;5;124m\"\u001b[39m\u001b[38;5;124mInput Prompt:\u001b[39m\u001b[38;5;124m\"\u001b[39m)\n\u001b[1;32m----> 3\u001b[0m     result\u001b[38;5;241m=\u001b[39m\u001b[43mqa\u001b[49m\u001b[43m(\u001b[49m\u001b[43m{\u001b[49m\u001b[38;5;124;43m\"\u001b[39;49m\u001b[38;5;124;43mquery\u001b[39;49m\u001b[38;5;124;43m\"\u001b[39;49m\u001b[43m:\u001b[49m\u001b[43m \u001b[49m\u001b[43muser_input\u001b[49m\u001b[43m}\u001b[49m\u001b[43m)\u001b[49m\n\u001b[0;32m      4\u001b[0m     \u001b[38;5;28mprint\u001b[39m(\u001b[38;5;124m\"\u001b[39m\u001b[38;5;124mResponse : \u001b[39m\u001b[38;5;124m\"\u001b[39m, result[\u001b[38;5;124m\"\u001b[39m\u001b[38;5;124mresult\u001b[39m\u001b[38;5;124m\"\u001b[39m])\n",
      "File \u001b[1;32md:\\Softwares\\anaconda3\\envs\\mchatbot\\lib\\site-packages\\langchain\\chains\\base.py:181\u001b[0m, in \u001b[0;36mChain.__call__\u001b[1;34m(self, inputs, return_only_outputs, callbacks, tags, metadata, include_run_info)\u001b[0m\n\u001b[0;32m    179\u001b[0m \u001b[38;5;28;01mexcept\u001b[39;00m (\u001b[38;5;167;01mKeyboardInterrupt\u001b[39;00m, \u001b[38;5;167;01mException\u001b[39;00m) \u001b[38;5;28;01mas\u001b[39;00m e:\n\u001b[0;32m    180\u001b[0m     run_manager\u001b[38;5;241m.\u001b[39mon_chain_error(e)\n\u001b[1;32m--> 181\u001b[0m     \u001b[38;5;28;01mraise\u001b[39;00m e\n\u001b[0;32m    182\u001b[0m run_manager\u001b[38;5;241m.\u001b[39mon_chain_end(outputs)\n\u001b[0;32m    183\u001b[0m final_outputs: Dict[\u001b[38;5;28mstr\u001b[39m, Any] \u001b[38;5;241m=\u001b[39m \u001b[38;5;28mself\u001b[39m\u001b[38;5;241m.\u001b[39mprep_outputs(\n\u001b[0;32m    184\u001b[0m     inputs, outputs, return_only_outputs\n\u001b[0;32m    185\u001b[0m )\n",
      "File \u001b[1;32md:\\Softwares\\anaconda3\\envs\\mchatbot\\lib\\site-packages\\langchain\\chains\\base.py:175\u001b[0m, in \u001b[0;36mChain.__call__\u001b[1;34m(self, inputs, return_only_outputs, callbacks, tags, metadata, include_run_info)\u001b[0m\n\u001b[0;32m    169\u001b[0m run_manager \u001b[38;5;241m=\u001b[39m callback_manager\u001b[38;5;241m.\u001b[39mon_chain_start(\n\u001b[0;32m    170\u001b[0m     dumpd(\u001b[38;5;28mself\u001b[39m),\n\u001b[0;32m    171\u001b[0m     inputs,\n\u001b[0;32m    172\u001b[0m )\n\u001b[0;32m    173\u001b[0m \u001b[38;5;28;01mtry\u001b[39;00m:\n\u001b[0;32m    174\u001b[0m     outputs \u001b[38;5;241m=\u001b[39m (\n\u001b[1;32m--> 175\u001b[0m         \u001b[38;5;28;43mself\u001b[39;49m\u001b[38;5;241;43m.\u001b[39;49m\u001b[43m_call\u001b[49m\u001b[43m(\u001b[49m\u001b[43minputs\u001b[49m\u001b[43m,\u001b[49m\u001b[43m \u001b[49m\u001b[43mrun_manager\u001b[49m\u001b[38;5;241;43m=\u001b[39;49m\u001b[43mrun_manager\u001b[49m\u001b[43m)\u001b[49m\n\u001b[0;32m    176\u001b[0m         \u001b[38;5;28;01mif\u001b[39;00m new_arg_supported\n\u001b[0;32m    177\u001b[0m         \u001b[38;5;28;01melse\u001b[39;00m \u001b[38;5;28mself\u001b[39m\u001b[38;5;241m.\u001b[39m_call(inputs)\n\u001b[0;32m    178\u001b[0m     )\n\u001b[0;32m    179\u001b[0m \u001b[38;5;28;01mexcept\u001b[39;00m (\u001b[38;5;167;01mKeyboardInterrupt\u001b[39;00m, \u001b[38;5;167;01mException\u001b[39;00m) \u001b[38;5;28;01mas\u001b[39;00m e:\n\u001b[0;32m    180\u001b[0m     run_manager\u001b[38;5;241m.\u001b[39mon_chain_error(e)\n",
      "File \u001b[1;32md:\\Softwares\\anaconda3\\envs\\mchatbot\\lib\\site-packages\\langchain\\chains\\retrieval_qa\\base.py:131\u001b[0m, in \u001b[0;36mBaseRetrievalQA._call\u001b[1;34m(self, inputs, run_manager)\u001b[0m\n\u001b[0;32m    129\u001b[0m \u001b[38;5;28;01melse\u001b[39;00m:\n\u001b[0;32m    130\u001b[0m     docs \u001b[38;5;241m=\u001b[39m \u001b[38;5;28mself\u001b[39m\u001b[38;5;241m.\u001b[39m_get_docs(question)  \u001b[38;5;66;03m# type: ignore[call-arg]\u001b[39;00m\n\u001b[1;32m--> 131\u001b[0m answer \u001b[38;5;241m=\u001b[39m \u001b[38;5;28;43mself\u001b[39;49m\u001b[38;5;241;43m.\u001b[39;49m\u001b[43mcombine_documents_chain\u001b[49m\u001b[38;5;241;43m.\u001b[39;49m\u001b[43mrun\u001b[49m\u001b[43m(\u001b[49m\n\u001b[0;32m    132\u001b[0m \u001b[43m    \u001b[49m\u001b[43minput_documents\u001b[49m\u001b[38;5;241;43m=\u001b[39;49m\u001b[43mdocs\u001b[49m\u001b[43m,\u001b[49m\u001b[43m \u001b[49m\u001b[43mquestion\u001b[49m\u001b[38;5;241;43m=\u001b[39;49m\u001b[43mquestion\u001b[49m\u001b[43m,\u001b[49m\u001b[43m \u001b[49m\u001b[43mcallbacks\u001b[49m\u001b[38;5;241;43m=\u001b[39;49m\u001b[43m_run_manager\u001b[49m\u001b[38;5;241;43m.\u001b[39;49m\u001b[43mget_child\u001b[49m\u001b[43m(\u001b[49m\u001b[43m)\u001b[49m\n\u001b[0;32m    133\u001b[0m \u001b[43m\u001b[49m\u001b[43m)\u001b[49m\n\u001b[0;32m    135\u001b[0m \u001b[38;5;28;01mif\u001b[39;00m \u001b[38;5;28mself\u001b[39m\u001b[38;5;241m.\u001b[39mreturn_source_documents:\n\u001b[0;32m    136\u001b[0m     \u001b[38;5;28;01mreturn\u001b[39;00m {\u001b[38;5;28mself\u001b[39m\u001b[38;5;241m.\u001b[39moutput_key: answer, \u001b[38;5;124m\"\u001b[39m\u001b[38;5;124msource_documents\u001b[39m\u001b[38;5;124m\"\u001b[39m: docs}\n",
      "File \u001b[1;32md:\\Softwares\\anaconda3\\envs\\mchatbot\\lib\\site-packages\\langchain\\chains\\base.py:320\u001b[0m, in \u001b[0;36mChain.run\u001b[1;34m(self, callbacks, tags, metadata, *args, **kwargs)\u001b[0m\n\u001b[0;32m    315\u001b[0m     \u001b[38;5;28;01mreturn\u001b[39;00m \u001b[38;5;28mself\u001b[39m(args[\u001b[38;5;241m0\u001b[39m], callbacks\u001b[38;5;241m=\u001b[39mcallbacks, tags\u001b[38;5;241m=\u001b[39mtags, metadata\u001b[38;5;241m=\u001b[39mmetadata)[\n\u001b[0;32m    316\u001b[0m         _output_key\n\u001b[0;32m    317\u001b[0m     ]\n\u001b[0;32m    319\u001b[0m \u001b[38;5;28;01mif\u001b[39;00m kwargs \u001b[38;5;129;01mand\u001b[39;00m \u001b[38;5;129;01mnot\u001b[39;00m args:\n\u001b[1;32m--> 320\u001b[0m     \u001b[38;5;28;01mreturn\u001b[39;00m \u001b[38;5;28;43mself\u001b[39;49m\u001b[43m(\u001b[49m\u001b[43mkwargs\u001b[49m\u001b[43m,\u001b[49m\u001b[43m \u001b[49m\u001b[43mcallbacks\u001b[49m\u001b[38;5;241;43m=\u001b[39;49m\u001b[43mcallbacks\u001b[49m\u001b[43m,\u001b[49m\u001b[43m \u001b[49m\u001b[43mtags\u001b[49m\u001b[38;5;241;43m=\u001b[39;49m\u001b[43mtags\u001b[49m\u001b[43m,\u001b[49m\u001b[43m \u001b[49m\u001b[43mmetadata\u001b[49m\u001b[38;5;241;43m=\u001b[39;49m\u001b[43mmetadata\u001b[49m\u001b[43m)\u001b[49m[\n\u001b[0;32m    321\u001b[0m         _output_key\n\u001b[0;32m    322\u001b[0m     ]\n\u001b[0;32m    324\u001b[0m \u001b[38;5;28;01mif\u001b[39;00m \u001b[38;5;129;01mnot\u001b[39;00m kwargs \u001b[38;5;129;01mand\u001b[39;00m \u001b[38;5;129;01mnot\u001b[39;00m args:\n\u001b[0;32m    325\u001b[0m     \u001b[38;5;28;01mraise\u001b[39;00m \u001b[38;5;167;01mValueError\u001b[39;00m(\n\u001b[0;32m    326\u001b[0m         \u001b[38;5;124m\"\u001b[39m\u001b[38;5;124m`run` supported with either positional arguments or keyword arguments,\u001b[39m\u001b[38;5;124m\"\u001b[39m\n\u001b[0;32m    327\u001b[0m         \u001b[38;5;124m\"\u001b[39m\u001b[38;5;124m but none were provided.\u001b[39m\u001b[38;5;124m\"\u001b[39m\n\u001b[0;32m    328\u001b[0m     )\n",
      "File \u001b[1;32md:\\Softwares\\anaconda3\\envs\\mchatbot\\lib\\site-packages\\langchain\\chains\\base.py:181\u001b[0m, in \u001b[0;36mChain.__call__\u001b[1;34m(self, inputs, return_only_outputs, callbacks, tags, metadata, include_run_info)\u001b[0m\n\u001b[0;32m    179\u001b[0m \u001b[38;5;28;01mexcept\u001b[39;00m (\u001b[38;5;167;01mKeyboardInterrupt\u001b[39;00m, \u001b[38;5;167;01mException\u001b[39;00m) \u001b[38;5;28;01mas\u001b[39;00m e:\n\u001b[0;32m    180\u001b[0m     run_manager\u001b[38;5;241m.\u001b[39mon_chain_error(e)\n\u001b[1;32m--> 181\u001b[0m     \u001b[38;5;28;01mraise\u001b[39;00m e\n\u001b[0;32m    182\u001b[0m run_manager\u001b[38;5;241m.\u001b[39mon_chain_end(outputs)\n\u001b[0;32m    183\u001b[0m final_outputs: Dict[\u001b[38;5;28mstr\u001b[39m, Any] \u001b[38;5;241m=\u001b[39m \u001b[38;5;28mself\u001b[39m\u001b[38;5;241m.\u001b[39mprep_outputs(\n\u001b[0;32m    184\u001b[0m     inputs, outputs, return_only_outputs\n\u001b[0;32m    185\u001b[0m )\n",
      "File \u001b[1;32md:\\Softwares\\anaconda3\\envs\\mchatbot\\lib\\site-packages\\langchain\\chains\\base.py:175\u001b[0m, in \u001b[0;36mChain.__call__\u001b[1;34m(self, inputs, return_only_outputs, callbacks, tags, metadata, include_run_info)\u001b[0m\n\u001b[0;32m    169\u001b[0m run_manager \u001b[38;5;241m=\u001b[39m callback_manager\u001b[38;5;241m.\u001b[39mon_chain_start(\n\u001b[0;32m    170\u001b[0m     dumpd(\u001b[38;5;28mself\u001b[39m),\n\u001b[0;32m    171\u001b[0m     inputs,\n\u001b[0;32m    172\u001b[0m )\n\u001b[0;32m    173\u001b[0m \u001b[38;5;28;01mtry\u001b[39;00m:\n\u001b[0;32m    174\u001b[0m     outputs \u001b[38;5;241m=\u001b[39m (\n\u001b[1;32m--> 175\u001b[0m         \u001b[38;5;28;43mself\u001b[39;49m\u001b[38;5;241;43m.\u001b[39;49m\u001b[43m_call\u001b[49m\u001b[43m(\u001b[49m\u001b[43minputs\u001b[49m\u001b[43m,\u001b[49m\u001b[43m \u001b[49m\u001b[43mrun_manager\u001b[49m\u001b[38;5;241;43m=\u001b[39;49m\u001b[43mrun_manager\u001b[49m\u001b[43m)\u001b[49m\n\u001b[0;32m    176\u001b[0m         \u001b[38;5;28;01mif\u001b[39;00m new_arg_supported\n\u001b[0;32m    177\u001b[0m         \u001b[38;5;28;01melse\u001b[39;00m \u001b[38;5;28mself\u001b[39m\u001b[38;5;241m.\u001b[39m_call(inputs)\n\u001b[0;32m    178\u001b[0m     )\n\u001b[0;32m    179\u001b[0m \u001b[38;5;28;01mexcept\u001b[39;00m (\u001b[38;5;167;01mKeyboardInterrupt\u001b[39;00m, \u001b[38;5;167;01mException\u001b[39;00m) \u001b[38;5;28;01mas\u001b[39;00m e:\n\u001b[0;32m    180\u001b[0m     run_manager\u001b[38;5;241m.\u001b[39mon_chain_error(e)\n",
      "File \u001b[1;32md:\\Softwares\\anaconda3\\envs\\mchatbot\\lib\\site-packages\\langchain\\chains\\combine_documents\\base.py:106\u001b[0m, in \u001b[0;36mBaseCombineDocumentsChain._call\u001b[1;34m(self, inputs, run_manager)\u001b[0m\n\u001b[0;32m    104\u001b[0m \u001b[38;5;66;03m# Other keys are assumed to be needed for LLM prediction\u001b[39;00m\n\u001b[0;32m    105\u001b[0m other_keys \u001b[38;5;241m=\u001b[39m {k: v \u001b[38;5;28;01mfor\u001b[39;00m k, v \u001b[38;5;129;01min\u001b[39;00m inputs\u001b[38;5;241m.\u001b[39mitems() \u001b[38;5;28;01mif\u001b[39;00m k \u001b[38;5;241m!=\u001b[39m \u001b[38;5;28mself\u001b[39m\u001b[38;5;241m.\u001b[39minput_key}\n\u001b[1;32m--> 106\u001b[0m output, extra_return_dict \u001b[38;5;241m=\u001b[39m \u001b[38;5;28;43mself\u001b[39;49m\u001b[38;5;241;43m.\u001b[39;49m\u001b[43mcombine_docs\u001b[49m\u001b[43m(\u001b[49m\n\u001b[0;32m    107\u001b[0m \u001b[43m    \u001b[49m\u001b[43mdocs\u001b[49m\u001b[43m,\u001b[49m\u001b[43m \u001b[49m\u001b[43mcallbacks\u001b[49m\u001b[38;5;241;43m=\u001b[39;49m\u001b[43m_run_manager\u001b[49m\u001b[38;5;241;43m.\u001b[39;49m\u001b[43mget_child\u001b[49m\u001b[43m(\u001b[49m\u001b[43m)\u001b[49m\u001b[43m,\u001b[49m\u001b[43m \u001b[49m\u001b[38;5;241;43m*\u001b[39;49m\u001b[38;5;241;43m*\u001b[39;49m\u001b[43mother_keys\u001b[49m\n\u001b[0;32m    108\u001b[0m \u001b[43m\u001b[49m\u001b[43m)\u001b[49m\n\u001b[0;32m    109\u001b[0m extra_return_dict[\u001b[38;5;28mself\u001b[39m\u001b[38;5;241m.\u001b[39moutput_key] \u001b[38;5;241m=\u001b[39m output\n\u001b[0;32m    110\u001b[0m \u001b[38;5;28;01mreturn\u001b[39;00m extra_return_dict\n",
      "File \u001b[1;32md:\\Softwares\\anaconda3\\envs\\mchatbot\\lib\\site-packages\\langchain\\chains\\combine_documents\\stuff.py:165\u001b[0m, in \u001b[0;36mStuffDocumentsChain.combine_docs\u001b[1;34m(self, docs, callbacks, **kwargs)\u001b[0m\n\u001b[0;32m    163\u001b[0m inputs \u001b[38;5;241m=\u001b[39m \u001b[38;5;28mself\u001b[39m\u001b[38;5;241m.\u001b[39m_get_inputs(docs, \u001b[38;5;241m*\u001b[39m\u001b[38;5;241m*\u001b[39mkwargs)\n\u001b[0;32m    164\u001b[0m \u001b[38;5;66;03m# Call predict on the LLM.\u001b[39;00m\n\u001b[1;32m--> 165\u001b[0m \u001b[38;5;28;01mreturn\u001b[39;00m \u001b[38;5;28;43mself\u001b[39;49m\u001b[38;5;241;43m.\u001b[39;49m\u001b[43mllm_chain\u001b[49m\u001b[38;5;241;43m.\u001b[39;49m\u001b[43mpredict\u001b[49m\u001b[43m(\u001b[49m\u001b[43mcallbacks\u001b[49m\u001b[38;5;241;43m=\u001b[39;49m\u001b[43mcallbacks\u001b[49m\u001b[43m,\u001b[49m\u001b[43m \u001b[49m\u001b[38;5;241;43m*\u001b[39;49m\u001b[38;5;241;43m*\u001b[39;49m\u001b[43minputs\u001b[49m\u001b[43m)\u001b[49m, {}\n",
      "File \u001b[1;32md:\\Softwares\\anaconda3\\envs\\mchatbot\\lib\\site-packages\\langchain\\chains\\llm.py:252\u001b[0m, in \u001b[0;36mLLMChain.predict\u001b[1;34m(self, callbacks, **kwargs)\u001b[0m\n\u001b[0;32m    237\u001b[0m \u001b[38;5;28;01mdef\u001b[39;00m \u001b[38;5;21mpredict\u001b[39m(\u001b[38;5;28mself\u001b[39m, callbacks: Callbacks \u001b[38;5;241m=\u001b[39m \u001b[38;5;28;01mNone\u001b[39;00m, \u001b[38;5;241m*\u001b[39m\u001b[38;5;241m*\u001b[39mkwargs: Any) \u001b[38;5;241m-\u001b[39m\u001b[38;5;241m>\u001b[39m \u001b[38;5;28mstr\u001b[39m:\n\u001b[0;32m    238\u001b[0m \u001b[38;5;250m    \u001b[39m\u001b[38;5;124;03m\"\"\"Format prompt with kwargs and pass to LLM.\u001b[39;00m\n\u001b[0;32m    239\u001b[0m \n\u001b[0;32m    240\u001b[0m \u001b[38;5;124;03m    Args:\u001b[39;00m\n\u001b[1;32m   (...)\u001b[0m\n\u001b[0;32m    250\u001b[0m \u001b[38;5;124;03m            completion = llm.predict(adjective=\"funny\")\u001b[39;00m\n\u001b[0;32m    251\u001b[0m \u001b[38;5;124;03m    \"\"\"\u001b[39;00m\n\u001b[1;32m--> 252\u001b[0m     \u001b[38;5;28;01mreturn\u001b[39;00m \u001b[38;5;28;43mself\u001b[39;49m\u001b[43m(\u001b[49m\u001b[43mkwargs\u001b[49m\u001b[43m,\u001b[49m\u001b[43m \u001b[49m\u001b[43mcallbacks\u001b[49m\u001b[38;5;241;43m=\u001b[39;49m\u001b[43mcallbacks\u001b[49m\u001b[43m)\u001b[49m[\u001b[38;5;28mself\u001b[39m\u001b[38;5;241m.\u001b[39moutput_key]\n",
      "File \u001b[1;32md:\\Softwares\\anaconda3\\envs\\mchatbot\\lib\\site-packages\\langchain\\chains\\base.py:181\u001b[0m, in \u001b[0;36mChain.__call__\u001b[1;34m(self, inputs, return_only_outputs, callbacks, tags, metadata, include_run_info)\u001b[0m\n\u001b[0;32m    179\u001b[0m \u001b[38;5;28;01mexcept\u001b[39;00m (\u001b[38;5;167;01mKeyboardInterrupt\u001b[39;00m, \u001b[38;5;167;01mException\u001b[39;00m) \u001b[38;5;28;01mas\u001b[39;00m e:\n\u001b[0;32m    180\u001b[0m     run_manager\u001b[38;5;241m.\u001b[39mon_chain_error(e)\n\u001b[1;32m--> 181\u001b[0m     \u001b[38;5;28;01mraise\u001b[39;00m e\n\u001b[0;32m    182\u001b[0m run_manager\u001b[38;5;241m.\u001b[39mon_chain_end(outputs)\n\u001b[0;32m    183\u001b[0m final_outputs: Dict[\u001b[38;5;28mstr\u001b[39m, Any] \u001b[38;5;241m=\u001b[39m \u001b[38;5;28mself\u001b[39m\u001b[38;5;241m.\u001b[39mprep_outputs(\n\u001b[0;32m    184\u001b[0m     inputs, outputs, return_only_outputs\n\u001b[0;32m    185\u001b[0m )\n",
      "File \u001b[1;32md:\\Softwares\\anaconda3\\envs\\mchatbot\\lib\\site-packages\\langchain\\chains\\base.py:175\u001b[0m, in \u001b[0;36mChain.__call__\u001b[1;34m(self, inputs, return_only_outputs, callbacks, tags, metadata, include_run_info)\u001b[0m\n\u001b[0;32m    169\u001b[0m run_manager \u001b[38;5;241m=\u001b[39m callback_manager\u001b[38;5;241m.\u001b[39mon_chain_start(\n\u001b[0;32m    170\u001b[0m     dumpd(\u001b[38;5;28mself\u001b[39m),\n\u001b[0;32m    171\u001b[0m     inputs,\n\u001b[0;32m    172\u001b[0m )\n\u001b[0;32m    173\u001b[0m \u001b[38;5;28;01mtry\u001b[39;00m:\n\u001b[0;32m    174\u001b[0m     outputs \u001b[38;5;241m=\u001b[39m (\n\u001b[1;32m--> 175\u001b[0m         \u001b[38;5;28;43mself\u001b[39;49m\u001b[38;5;241;43m.\u001b[39;49m\u001b[43m_call\u001b[49m\u001b[43m(\u001b[49m\u001b[43minputs\u001b[49m\u001b[43m,\u001b[49m\u001b[43m \u001b[49m\u001b[43mrun_manager\u001b[49m\u001b[38;5;241;43m=\u001b[39;49m\u001b[43mrun_manager\u001b[49m\u001b[43m)\u001b[49m\n\u001b[0;32m    176\u001b[0m         \u001b[38;5;28;01mif\u001b[39;00m new_arg_supported\n\u001b[0;32m    177\u001b[0m         \u001b[38;5;28;01melse\u001b[39;00m \u001b[38;5;28mself\u001b[39m\u001b[38;5;241m.\u001b[39m_call(inputs)\n\u001b[0;32m    178\u001b[0m     )\n\u001b[0;32m    179\u001b[0m \u001b[38;5;28;01mexcept\u001b[39;00m (\u001b[38;5;167;01mKeyboardInterrupt\u001b[39;00m, \u001b[38;5;167;01mException\u001b[39;00m) \u001b[38;5;28;01mas\u001b[39;00m e:\n\u001b[0;32m    180\u001b[0m     run_manager\u001b[38;5;241m.\u001b[39mon_chain_error(e)\n",
      "File \u001b[1;32md:\\Softwares\\anaconda3\\envs\\mchatbot\\lib\\site-packages\\langchain\\chains\\llm.py:92\u001b[0m, in \u001b[0;36mLLMChain._call\u001b[1;34m(self, inputs, run_manager)\u001b[0m\n\u001b[0;32m     87\u001b[0m \u001b[38;5;28;01mdef\u001b[39;00m \u001b[38;5;21m_call\u001b[39m(\n\u001b[0;32m     88\u001b[0m     \u001b[38;5;28mself\u001b[39m,\n\u001b[0;32m     89\u001b[0m     inputs: Dict[\u001b[38;5;28mstr\u001b[39m, Any],\n\u001b[0;32m     90\u001b[0m     run_manager: Optional[CallbackManagerForChainRun] \u001b[38;5;241m=\u001b[39m \u001b[38;5;28;01mNone\u001b[39;00m,\n\u001b[0;32m     91\u001b[0m ) \u001b[38;5;241m-\u001b[39m\u001b[38;5;241m>\u001b[39m Dict[\u001b[38;5;28mstr\u001b[39m, \u001b[38;5;28mstr\u001b[39m]:\n\u001b[1;32m---> 92\u001b[0m     response \u001b[38;5;241m=\u001b[39m \u001b[38;5;28;43mself\u001b[39;49m\u001b[38;5;241;43m.\u001b[39;49m\u001b[43mgenerate\u001b[49m\u001b[43m(\u001b[49m\u001b[43m[\u001b[49m\u001b[43minputs\u001b[49m\u001b[43m]\u001b[49m\u001b[43m,\u001b[49m\u001b[43m \u001b[49m\u001b[43mrun_manager\u001b[49m\u001b[38;5;241;43m=\u001b[39;49m\u001b[43mrun_manager\u001b[49m\u001b[43m)\u001b[49m\n\u001b[0;32m     93\u001b[0m     \u001b[38;5;28;01mreturn\u001b[39;00m \u001b[38;5;28mself\u001b[39m\u001b[38;5;241m.\u001b[39mcreate_outputs(response)[\u001b[38;5;241m0\u001b[39m]\n",
      "File \u001b[1;32md:\\Softwares\\anaconda3\\envs\\mchatbot\\lib\\site-packages\\langchain\\chains\\llm.py:102\u001b[0m, in \u001b[0;36mLLMChain.generate\u001b[1;34m(self, input_list, run_manager)\u001b[0m\n\u001b[0;32m    100\u001b[0m \u001b[38;5;250m\u001b[39m\u001b[38;5;124;03m\"\"\"Generate LLM result from inputs.\"\"\"\u001b[39;00m\n\u001b[0;32m    101\u001b[0m prompts, stop \u001b[38;5;241m=\u001b[39m \u001b[38;5;28mself\u001b[39m\u001b[38;5;241m.\u001b[39mprep_prompts(input_list, run_manager\u001b[38;5;241m=\u001b[39mrun_manager)\n\u001b[1;32m--> 102\u001b[0m \u001b[38;5;28;01mreturn\u001b[39;00m \u001b[38;5;28;43mself\u001b[39;49m\u001b[38;5;241;43m.\u001b[39;49m\u001b[43mllm\u001b[49m\u001b[38;5;241;43m.\u001b[39;49m\u001b[43mgenerate_prompt\u001b[49m\u001b[43m(\u001b[49m\n\u001b[0;32m    103\u001b[0m \u001b[43m    \u001b[49m\u001b[43mprompts\u001b[49m\u001b[43m,\u001b[49m\n\u001b[0;32m    104\u001b[0m \u001b[43m    \u001b[49m\u001b[43mstop\u001b[49m\u001b[43m,\u001b[49m\n\u001b[0;32m    105\u001b[0m \u001b[43m    \u001b[49m\u001b[43mcallbacks\u001b[49m\u001b[38;5;241;43m=\u001b[39;49m\u001b[43mrun_manager\u001b[49m\u001b[38;5;241;43m.\u001b[39;49m\u001b[43mget_child\u001b[49m\u001b[43m(\u001b[49m\u001b[43m)\u001b[49m\u001b[43m \u001b[49m\u001b[38;5;28;43;01mif\u001b[39;49;00m\u001b[43m \u001b[49m\u001b[43mrun_manager\u001b[49m\u001b[43m \u001b[49m\u001b[38;5;28;43;01melse\u001b[39;49;00m\u001b[43m \u001b[49m\u001b[38;5;28;43;01mNone\u001b[39;49;00m\u001b[43m,\u001b[49m\n\u001b[0;32m    106\u001b[0m \u001b[43m    \u001b[49m\u001b[38;5;241;43m*\u001b[39;49m\u001b[38;5;241;43m*\u001b[39;49m\u001b[38;5;28;43mself\u001b[39;49m\u001b[38;5;241;43m.\u001b[39;49m\u001b[43mllm_kwargs\u001b[49m\u001b[43m,\u001b[49m\n\u001b[0;32m    107\u001b[0m \u001b[43m\u001b[49m\u001b[43m)\u001b[49m\n",
      "File \u001b[1;32md:\\Softwares\\anaconda3\\envs\\mchatbot\\lib\\site-packages\\langchain\\llms\\base.py:141\u001b[0m, in \u001b[0;36mBaseLLM.generate_prompt\u001b[1;34m(self, prompts, stop, callbacks, **kwargs)\u001b[0m\n\u001b[0;32m    133\u001b[0m \u001b[38;5;28;01mdef\u001b[39;00m \u001b[38;5;21mgenerate_prompt\u001b[39m(\n\u001b[0;32m    134\u001b[0m     \u001b[38;5;28mself\u001b[39m,\n\u001b[0;32m    135\u001b[0m     prompts: List[PromptValue],\n\u001b[1;32m   (...)\u001b[0m\n\u001b[0;32m    138\u001b[0m     \u001b[38;5;241m*\u001b[39m\u001b[38;5;241m*\u001b[39mkwargs: Any,\n\u001b[0;32m    139\u001b[0m ) \u001b[38;5;241m-\u001b[39m\u001b[38;5;241m>\u001b[39m LLMResult:\n\u001b[0;32m    140\u001b[0m     prompt_strings \u001b[38;5;241m=\u001b[39m [p\u001b[38;5;241m.\u001b[39mto_string() \u001b[38;5;28;01mfor\u001b[39;00m p \u001b[38;5;129;01min\u001b[39;00m prompts]\n\u001b[1;32m--> 141\u001b[0m     \u001b[38;5;28;01mreturn\u001b[39;00m \u001b[38;5;28;43mself\u001b[39;49m\u001b[38;5;241;43m.\u001b[39;49m\u001b[43mgenerate\u001b[49m\u001b[43m(\u001b[49m\u001b[43mprompt_strings\u001b[49m\u001b[43m,\u001b[49m\u001b[43m \u001b[49m\u001b[43mstop\u001b[49m\u001b[38;5;241;43m=\u001b[39;49m\u001b[43mstop\u001b[49m\u001b[43m,\u001b[49m\u001b[43m \u001b[49m\u001b[43mcallbacks\u001b[49m\u001b[38;5;241;43m=\u001b[39;49m\u001b[43mcallbacks\u001b[49m\u001b[43m,\u001b[49m\u001b[43m \u001b[49m\u001b[38;5;241;43m*\u001b[39;49m\u001b[38;5;241;43m*\u001b[39;49m\u001b[43mkwargs\u001b[49m\u001b[43m)\u001b[49m\n",
      "File \u001b[1;32md:\\Softwares\\anaconda3\\envs\\mchatbot\\lib\\site-packages\\langchain\\llms\\base.py:234\u001b[0m, in \u001b[0;36mBaseLLM.generate\u001b[1;34m(self, prompts, stop, callbacks, tags, metadata, **kwargs)\u001b[0m\n\u001b[0;32m    228\u001b[0m         \u001b[38;5;28;01mraise\u001b[39;00m \u001b[38;5;167;01mValueError\u001b[39;00m(\n\u001b[0;32m    229\u001b[0m             \u001b[38;5;124m\"\u001b[39m\u001b[38;5;124mAsked to cache, but no cache found at `langchain.cache`.\u001b[39m\u001b[38;5;124m\"\u001b[39m\n\u001b[0;32m    230\u001b[0m         )\n\u001b[0;32m    231\u001b[0m     run_managers \u001b[38;5;241m=\u001b[39m callback_manager\u001b[38;5;241m.\u001b[39mon_llm_start(\n\u001b[0;32m    232\u001b[0m         dumpd(\u001b[38;5;28mself\u001b[39m), prompts, invocation_params\u001b[38;5;241m=\u001b[39mparams, options\u001b[38;5;241m=\u001b[39moptions\n\u001b[0;32m    233\u001b[0m     )\n\u001b[1;32m--> 234\u001b[0m     output \u001b[38;5;241m=\u001b[39m \u001b[38;5;28;43mself\u001b[39;49m\u001b[38;5;241;43m.\u001b[39;49m\u001b[43m_generate_helper\u001b[49m\u001b[43m(\u001b[49m\n\u001b[0;32m    235\u001b[0m \u001b[43m        \u001b[49m\u001b[43mprompts\u001b[49m\u001b[43m,\u001b[49m\u001b[43m \u001b[49m\u001b[43mstop\u001b[49m\u001b[43m,\u001b[49m\u001b[43m \u001b[49m\u001b[43mrun_managers\u001b[49m\u001b[43m,\u001b[49m\u001b[43m \u001b[49m\u001b[38;5;28;43mbool\u001b[39;49m\u001b[43m(\u001b[49m\u001b[43mnew_arg_supported\u001b[49m\u001b[43m)\u001b[49m\u001b[43m,\u001b[49m\u001b[43m \u001b[49m\u001b[38;5;241;43m*\u001b[39;49m\u001b[38;5;241;43m*\u001b[39;49m\u001b[43mkwargs\u001b[49m\n\u001b[0;32m    236\u001b[0m \u001b[43m    \u001b[49m\u001b[43m)\u001b[49m\n\u001b[0;32m    237\u001b[0m     \u001b[38;5;28;01mreturn\u001b[39;00m output\n\u001b[0;32m    238\u001b[0m \u001b[38;5;28;01mif\u001b[39;00m \u001b[38;5;28mlen\u001b[39m(missing_prompts) \u001b[38;5;241m>\u001b[39m \u001b[38;5;241m0\u001b[39m:\n",
      "File \u001b[1;32md:\\Softwares\\anaconda3\\envs\\mchatbot\\lib\\site-packages\\langchain\\llms\\base.py:178\u001b[0m, in \u001b[0;36mBaseLLM._generate_helper\u001b[1;34m(self, prompts, stop, run_managers, new_arg_supported, **kwargs)\u001b[0m\n\u001b[0;32m    176\u001b[0m     \u001b[38;5;28;01mfor\u001b[39;00m run_manager \u001b[38;5;129;01min\u001b[39;00m run_managers:\n\u001b[0;32m    177\u001b[0m         run_manager\u001b[38;5;241m.\u001b[39mon_llm_error(e)\n\u001b[1;32m--> 178\u001b[0m     \u001b[38;5;28;01mraise\u001b[39;00m e\n\u001b[0;32m    179\u001b[0m flattened_outputs \u001b[38;5;241m=\u001b[39m output\u001b[38;5;241m.\u001b[39mflatten()\n\u001b[0;32m    180\u001b[0m \u001b[38;5;28;01mfor\u001b[39;00m manager, flattened_output \u001b[38;5;129;01min\u001b[39;00m \u001b[38;5;28mzip\u001b[39m(run_managers, flattened_outputs):\n",
      "File \u001b[1;32md:\\Softwares\\anaconda3\\envs\\mchatbot\\lib\\site-packages\\langchain\\llms\\base.py:165\u001b[0m, in \u001b[0;36mBaseLLM._generate_helper\u001b[1;34m(self, prompts, stop, run_managers, new_arg_supported, **kwargs)\u001b[0m\n\u001b[0;32m    155\u001b[0m \u001b[38;5;28;01mdef\u001b[39;00m \u001b[38;5;21m_generate_helper\u001b[39m(\n\u001b[0;32m    156\u001b[0m     \u001b[38;5;28mself\u001b[39m,\n\u001b[0;32m    157\u001b[0m     prompts: List[\u001b[38;5;28mstr\u001b[39m],\n\u001b[1;32m   (...)\u001b[0m\n\u001b[0;32m    161\u001b[0m     \u001b[38;5;241m*\u001b[39m\u001b[38;5;241m*\u001b[39mkwargs: Any,\n\u001b[0;32m    162\u001b[0m ) \u001b[38;5;241m-\u001b[39m\u001b[38;5;241m>\u001b[39m LLMResult:\n\u001b[0;32m    163\u001b[0m     \u001b[38;5;28;01mtry\u001b[39;00m:\n\u001b[0;32m    164\u001b[0m         output \u001b[38;5;241m=\u001b[39m (\n\u001b[1;32m--> 165\u001b[0m             \u001b[38;5;28;43mself\u001b[39;49m\u001b[38;5;241;43m.\u001b[39;49m\u001b[43m_generate\u001b[49m\u001b[43m(\u001b[49m\n\u001b[0;32m    166\u001b[0m \u001b[43m                \u001b[49m\u001b[43mprompts\u001b[49m\u001b[43m,\u001b[49m\n\u001b[0;32m    167\u001b[0m \u001b[43m                \u001b[49m\u001b[43mstop\u001b[49m\u001b[38;5;241;43m=\u001b[39;49m\u001b[43mstop\u001b[49m\u001b[43m,\u001b[49m\n\u001b[0;32m    168\u001b[0m \u001b[43m                \u001b[49m\u001b[38;5;66;43;03m# TODO: support multiple run managers\u001b[39;49;00m\n\u001b[0;32m    169\u001b[0m \u001b[43m                \u001b[49m\u001b[43mrun_manager\u001b[49m\u001b[38;5;241;43m=\u001b[39;49m\u001b[43mrun_managers\u001b[49m\u001b[43m[\u001b[49m\u001b[38;5;241;43m0\u001b[39;49m\u001b[43m]\u001b[49m\u001b[43m \u001b[49m\u001b[38;5;28;43;01mif\u001b[39;49;00m\u001b[43m \u001b[49m\u001b[43mrun_managers\u001b[49m\u001b[43m \u001b[49m\u001b[38;5;28;43;01melse\u001b[39;49;00m\u001b[43m \u001b[49m\u001b[38;5;28;43;01mNone\u001b[39;49;00m\u001b[43m,\u001b[49m\n\u001b[0;32m    170\u001b[0m \u001b[43m                \u001b[49m\u001b[38;5;241;43m*\u001b[39;49m\u001b[38;5;241;43m*\u001b[39;49m\u001b[43mkwargs\u001b[49m\u001b[43m,\u001b[49m\n\u001b[0;32m    171\u001b[0m \u001b[43m            \u001b[49m\u001b[43m)\u001b[49m\n\u001b[0;32m    172\u001b[0m             \u001b[38;5;28;01mif\u001b[39;00m new_arg_supported\n\u001b[0;32m    173\u001b[0m             \u001b[38;5;28;01melse\u001b[39;00m \u001b[38;5;28mself\u001b[39m\u001b[38;5;241m.\u001b[39m_generate(prompts, stop\u001b[38;5;241m=\u001b[39mstop)\n\u001b[0;32m    174\u001b[0m         )\n\u001b[0;32m    175\u001b[0m     \u001b[38;5;28;01mexcept\u001b[39;00m (\u001b[38;5;167;01mKeyboardInterrupt\u001b[39;00m, \u001b[38;5;167;01mException\u001b[39;00m) \u001b[38;5;28;01mas\u001b[39;00m e:\n\u001b[0;32m    176\u001b[0m         \u001b[38;5;28;01mfor\u001b[39;00m run_manager \u001b[38;5;129;01min\u001b[39;00m run_managers:\n",
      "File \u001b[1;32md:\\Softwares\\anaconda3\\envs\\mchatbot\\lib\\site-packages\\langchain\\llms\\base.py:557\u001b[0m, in \u001b[0;36mLLM._generate\u001b[1;34m(self, prompts, stop, run_manager, **kwargs)\u001b[0m\n\u001b[0;32m    554\u001b[0m new_arg_supported \u001b[38;5;241m=\u001b[39m inspect\u001b[38;5;241m.\u001b[39msignature(\u001b[38;5;28mself\u001b[39m\u001b[38;5;241m.\u001b[39m_call)\u001b[38;5;241m.\u001b[39mparameters\u001b[38;5;241m.\u001b[39mget(\u001b[38;5;124m\"\u001b[39m\u001b[38;5;124mrun_manager\u001b[39m\u001b[38;5;124m\"\u001b[39m)\n\u001b[0;32m    555\u001b[0m \u001b[38;5;28;01mfor\u001b[39;00m prompt \u001b[38;5;129;01min\u001b[39;00m prompts:\n\u001b[0;32m    556\u001b[0m     text \u001b[38;5;241m=\u001b[39m (\n\u001b[1;32m--> 557\u001b[0m         \u001b[38;5;28;43mself\u001b[39;49m\u001b[38;5;241;43m.\u001b[39;49m\u001b[43m_call\u001b[49m\u001b[43m(\u001b[49m\u001b[43mprompt\u001b[49m\u001b[43m,\u001b[49m\u001b[43m \u001b[49m\u001b[43mstop\u001b[49m\u001b[38;5;241;43m=\u001b[39;49m\u001b[43mstop\u001b[49m\u001b[43m,\u001b[49m\u001b[43m \u001b[49m\u001b[43mrun_manager\u001b[49m\u001b[38;5;241;43m=\u001b[39;49m\u001b[43mrun_manager\u001b[49m\u001b[43m,\u001b[49m\u001b[43m \u001b[49m\u001b[38;5;241;43m*\u001b[39;49m\u001b[38;5;241;43m*\u001b[39;49m\u001b[43mkwargs\u001b[49m\u001b[43m)\u001b[49m\n\u001b[0;32m    558\u001b[0m         \u001b[38;5;28;01mif\u001b[39;00m new_arg_supported\n\u001b[0;32m    559\u001b[0m         \u001b[38;5;28;01melse\u001b[39;00m \u001b[38;5;28mself\u001b[39m\u001b[38;5;241m.\u001b[39m_call(prompt, stop\u001b[38;5;241m=\u001b[39mstop, \u001b[38;5;241m*\u001b[39m\u001b[38;5;241m*\u001b[39mkwargs)\n\u001b[0;32m    560\u001b[0m     )\n\u001b[0;32m    561\u001b[0m     generations\u001b[38;5;241m.\u001b[39mappend([Generation(text\u001b[38;5;241m=\u001b[39mtext)])\n\u001b[0;32m    562\u001b[0m \u001b[38;5;28;01mreturn\u001b[39;00m LLMResult(generations\u001b[38;5;241m=\u001b[39mgenerations)\n",
      "File \u001b[1;32md:\\Softwares\\anaconda3\\envs\\mchatbot\\lib\\site-packages\\langchain\\llms\\ctransformers.py:102\u001b[0m, in \u001b[0;36mCTransformers._call\u001b[1;34m(self, prompt, stop, run_manager, **kwargs)\u001b[0m\n\u001b[0;32m    100\u001b[0m text \u001b[38;5;241m=\u001b[39m []\n\u001b[0;32m    101\u001b[0m _run_manager \u001b[38;5;241m=\u001b[39m run_manager \u001b[38;5;129;01mor\u001b[39;00m CallbackManagerForLLMRun\u001b[38;5;241m.\u001b[39mget_noop_manager()\n\u001b[1;32m--> 102\u001b[0m \u001b[38;5;28;01mfor\u001b[39;00m chunk \u001b[38;5;129;01min\u001b[39;00m \u001b[38;5;28mself\u001b[39m\u001b[38;5;241m.\u001b[39mclient(prompt, stop\u001b[38;5;241m=\u001b[39mstop, stream\u001b[38;5;241m=\u001b[39m\u001b[38;5;28;01mTrue\u001b[39;00m):\n\u001b[0;32m    103\u001b[0m     text\u001b[38;5;241m.\u001b[39mappend(chunk)\n\u001b[0;32m    104\u001b[0m     _run_manager\u001b[38;5;241m.\u001b[39mon_llm_new_token(chunk, verbose\u001b[38;5;241m=\u001b[39m\u001b[38;5;28mself\u001b[39m\u001b[38;5;241m.\u001b[39mverbose)\n",
      "File \u001b[1;32md:\\Softwares\\anaconda3\\envs\\mchatbot\\lib\\site-packages\\ctransformers\\llm.py:432\u001b[0m, in \u001b[0;36mLLM._stream\u001b[1;34m(self, prompt, max_new_tokens, top_k, top_p, temperature, repetition_penalty, last_n_tokens, seed, batch_size, threads, stop, reset)\u001b[0m\n\u001b[0;32m    430\u001b[0m count \u001b[38;5;241m=\u001b[39m \u001b[38;5;241m0\u001b[39m\n\u001b[0;32m    431\u001b[0m text \u001b[38;5;241m=\u001b[39m \u001b[38;5;124m\"\u001b[39m\u001b[38;5;124m\"\u001b[39m\n\u001b[1;32m--> 432\u001b[0m \u001b[38;5;28;01mfor\u001b[39;00m token \u001b[38;5;129;01min\u001b[39;00m \u001b[38;5;28mself\u001b[39m\u001b[38;5;241m.\u001b[39mgenerate(\n\u001b[0;32m    433\u001b[0m     tokens,\n\u001b[0;32m    434\u001b[0m     top_k\u001b[38;5;241m=\u001b[39mtop_k,\n\u001b[0;32m    435\u001b[0m     top_p\u001b[38;5;241m=\u001b[39mtop_p,\n\u001b[0;32m    436\u001b[0m     temperature\u001b[38;5;241m=\u001b[39mtemperature,\n\u001b[0;32m    437\u001b[0m     repetition_penalty\u001b[38;5;241m=\u001b[39mrepetition_penalty,\n\u001b[0;32m    438\u001b[0m     last_n_tokens\u001b[38;5;241m=\u001b[39mlast_n_tokens,\n\u001b[0;32m    439\u001b[0m     seed\u001b[38;5;241m=\u001b[39mseed,\n\u001b[0;32m    440\u001b[0m     batch_size\u001b[38;5;241m=\u001b[39mbatch_size,\n\u001b[0;32m    441\u001b[0m     threads\u001b[38;5;241m=\u001b[39mthreads,\n\u001b[0;32m    442\u001b[0m     reset\u001b[38;5;241m=\u001b[39mreset,\n\u001b[0;32m    443\u001b[0m ):\n\u001b[0;32m    444\u001b[0m     text \u001b[38;5;241m+\u001b[39m\u001b[38;5;241m=\u001b[39m \u001b[38;5;28mself\u001b[39m\u001b[38;5;241m.\u001b[39mdetokenize([token])\n\u001b[0;32m    446\u001b[0m     \u001b[38;5;66;03m# https://github.com/abetlen/llama-cpp-python/blob/1a13d76c487df1c8560132d10bda62d6e2f4fa93/llama_cpp/llama.py#L686-L706\u001b[39;00m\n\u001b[0;32m    447\u001b[0m     \u001b[38;5;66;03m# Check if one of the stop sequences is part of the text.\u001b[39;00m\n\u001b[0;32m    448\u001b[0m     \u001b[38;5;66;03m# Note that the stop sequence may not always be at the end of text.\u001b[39;00m\n",
      "File \u001b[1;32md:\\Softwares\\anaconda3\\envs\\mchatbot\\lib\\site-packages\\ctransformers\\llm.py:390\u001b[0m, in \u001b[0;36mLLM.generate\u001b[1;34m(self, tokens, top_k, top_p, temperature, repetition_penalty, last_n_tokens, seed, batch_size, threads, reset)\u001b[0m\n\u001b[0;32m    387\u001b[0m \u001b[38;5;28;01mif\u001b[39;00m reset:\n\u001b[0;32m    388\u001b[0m     \u001b[38;5;28mself\u001b[39m\u001b[38;5;241m.\u001b[39mreset()\n\u001b[1;32m--> 390\u001b[0m \u001b[38;5;28;43mself\u001b[39;49m\u001b[38;5;241;43m.\u001b[39;49m\u001b[43meval\u001b[49m\u001b[43m(\u001b[49m\u001b[43mtokens\u001b[49m\u001b[43m,\u001b[49m\u001b[43m \u001b[49m\u001b[43mbatch_size\u001b[49m\u001b[38;5;241;43m=\u001b[39;49m\u001b[43mbatch_size\u001b[49m\u001b[43m,\u001b[49m\u001b[43m \u001b[49m\u001b[43mthreads\u001b[49m\u001b[38;5;241;43m=\u001b[39;49m\u001b[43mthreads\u001b[49m\u001b[43m)\u001b[49m\n\u001b[0;32m    391\u001b[0m \u001b[38;5;28;01mwhile\u001b[39;00m \u001b[38;5;28;01mTrue\u001b[39;00m:\n\u001b[0;32m    392\u001b[0m     token \u001b[38;5;241m=\u001b[39m \u001b[38;5;28mself\u001b[39m\u001b[38;5;241m.\u001b[39msample(\n\u001b[0;32m    393\u001b[0m         top_k\u001b[38;5;241m=\u001b[39mtop_k,\n\u001b[0;32m    394\u001b[0m         top_p\u001b[38;5;241m=\u001b[39mtop_p,\n\u001b[1;32m   (...)\u001b[0m\n\u001b[0;32m    398\u001b[0m         seed\u001b[38;5;241m=\u001b[39mseed,\n\u001b[0;32m    399\u001b[0m     )\n",
      "File \u001b[1;32md:\\Softwares\\anaconda3\\envs\\mchatbot\\lib\\site-packages\\ctransformers\\llm.py:307\u001b[0m, in \u001b[0;36mLLM.eval\u001b[1;34m(self, tokens, batch_size, threads)\u001b[0m\n\u001b[0;32m    305\u001b[0m n_tokens \u001b[38;5;241m=\u001b[39m \u001b[38;5;28mlen\u001b[39m(tokens)\n\u001b[0;32m    306\u001b[0m tokens \u001b[38;5;241m=\u001b[39m (c_int \u001b[38;5;241m*\u001b[39m n_tokens)(\u001b[38;5;241m*\u001b[39mtokens)\n\u001b[1;32m--> 307\u001b[0m status \u001b[38;5;241m=\u001b[39m \u001b[38;5;28;43mself\u001b[39;49m\u001b[38;5;241;43m.\u001b[39;49m\u001b[43mctransformers_llm_batch_eval\u001b[49m\u001b[43m(\u001b[49m\n\u001b[0;32m    308\u001b[0m \u001b[43m    \u001b[49m\u001b[43mtokens\u001b[49m\u001b[43m,\u001b[49m\n\u001b[0;32m    309\u001b[0m \u001b[43m    \u001b[49m\u001b[43mn_tokens\u001b[49m\u001b[43m,\u001b[49m\n\u001b[0;32m    310\u001b[0m \u001b[43m    \u001b[49m\u001b[43mbatch_size\u001b[49m\u001b[43m,\u001b[49m\n\u001b[0;32m    311\u001b[0m \u001b[43m    \u001b[49m\u001b[43mthreads\u001b[49m\u001b[43m,\u001b[49m\n\u001b[0;32m    312\u001b[0m \u001b[43m\u001b[49m\u001b[43m)\u001b[49m\n\u001b[0;32m    313\u001b[0m \u001b[38;5;28;01mif\u001b[39;00m \u001b[38;5;129;01mnot\u001b[39;00m status:\n\u001b[0;32m    314\u001b[0m     \u001b[38;5;28;01mraise\u001b[39;00m \u001b[38;5;167;01mRuntimeError\u001b[39;00m(\u001b[38;5;124m\"\u001b[39m\u001b[38;5;124mFailed to evaluate tokens.\u001b[39m\u001b[38;5;124m\"\u001b[39m)\n",
      "\u001b[1;31mKeyboardInterrupt\u001b[0m: "
     ]
    }
   ],
   "source": [
    "while True:\n",
    "    user_input=input(f\"Input Prompt:\")\n",
    "    result=qa({\"query\": user_input})\n",
    "    print(\"Response : \", result[\"result\"])"
   ]
  },
  {
   "cell_type": "code",
   "execution_count": null,
   "metadata": {},
   "outputs": [],
   "source": []
  }
 ],
 "metadata": {
  "kernelspec": {
   "display_name": "mchatbot",
   "language": "python",
   "name": "python3"
  },
  "language_info": {
   "codemirror_mode": {
    "name": "ipython",
    "version": 3
   },
   "file_extension": ".py",
   "mimetype": "text/x-python",
   "name": "python",
   "nbconvert_exporter": "python",
   "pygments_lexer": "ipython3",
   "version": "3.8.19"
  }
 },
 "nbformat": 4,
 "nbformat_minor": 2
}
